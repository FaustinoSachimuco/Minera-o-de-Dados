{
  "nbformat": 4,
  "nbformat_minor": 0,
  "metadata": {
    "colab": {
      "provenance": [],
      "authorship_tag": "ABX9TyNBClTL+57s2U+ShdEcmAoG",
      "include_colab_link": true
    },
    "kernelspec": {
      "name": "python3",
      "display_name": "Python 3"
    },
    "language_info": {
      "name": "python"
    }
  },
  "cells": [
    {
      "cell_type": "markdown",
      "metadata": {
        "id": "view-in-github",
        "colab_type": "text"
      },
      "source": [
        "<a href=\"https://colab.research.google.com/github/FaustinoSachimuco/chatBot_Alinca_Democratica/blob/Faustino_Testes/chatbot.ipynb\" target=\"_parent\"><img src=\"https://colab.research.google.com/assets/colab-badge.svg\" alt=\"Open In Colab\"/></a>"
      ]
    },
    {
      "cell_type": "code",
      "execution_count": 6,
      "metadata": {
        "colab": {
          "base_uri": "https://localhost:8080/"
        },
        "id": "xehSxx5r2iKd",
        "outputId": "e379c20a-7ca8-4c0e-9e9b-407974a32bb5"
      },
      "outputs": [
        {
          "output_type": "stream",
          "name": "stdout",
          "text": [
            "Processando diretório dados...\n",
            "Extraindo linhas de dados/texto.txt...\n",
            "Primeira linha coletada:\n",
            " Apesar disso, nenhuma das alianças deve conseguir uma maioria absoluta para conseguir formar um governo.\n",
            "\n",
            "5247\n"
          ]
        }
      ],
      "source": [
        "import os\n",
        "import re\n",
        "import random\n",
        "\n",
        "def extract_all_lines(file_path):\n",
        "    lines = []\n",
        "    with open(file_path, 'r') as script_file:\n",
        "        print(f\"Extraindo linhas de {file_path}...\")\n",
        "        lines.extend(script_file.readlines())\n",
        "    return lines\n",
        "\n",
        "def process_directory(directory_path):\n",
        "    all_lines_list = []\n",
        "    print(f\"Processando diretório {directory_path}...\")\n",
        "    for filename in os.listdir(directory_path):\n",
        "        file_path = os.path.join(directory_path, filename)\n",
        "        if os.path.isfile(file_path):\n",
        "            all_lines_list.extend(extract_all_lines(file_path))\n",
        "    return all_lines_list\n",
        "\n",
        "# Defina o caminho do diretório que contém os arquivos de script\n",
        "directory_path = \"dados\"\n",
        "\n",
        "# Chame a função process_directory para processar os arquivos no diretório especificado\n",
        "dialogs = process_directory(directory_path)\n",
        "\n",
        "# Exemplo de como você pode imprimir a primeira linha coletada\n",
        "print(\"Primeira linha coletada:\")\n",
        "print(dialogs[1])\n",
        "print(len(dialogs))"
      ]
    },
    {
      "cell_type": "code",
      "source": [
        "!pip install docarray\n",
        "from docarray import BaseDoc\n",
        "from docarray.typing import NdArray\n",
        "embedding_dimensions = 128\n",
        "\n",
        "class DialogLine(BaseDoc):\n",
        "    text: str = ''\n",
        "    embedding: NdArray[embedding_dimensions]"
      ],
      "metadata": {
        "colab": {
          "base_uri": "https://localhost:8080/"
        },
        "id": "3BnVUrsL2xZE",
        "outputId": "0ee19273-b718-4457-c1b5-9a40c98329c7"
      },
      "execution_count": 7,
      "outputs": [
        {
          "output_type": "stream",
          "name": "stdout",
          "text": [
            "Requirement already satisfied: docarray in /usr/local/lib/python3.10/dist-packages (0.40.0)\n",
            "Requirement already satisfied: numpy>=1.17.3 in /usr/local/lib/python3.10/dist-packages (from docarray) (1.25.2)\n",
            "Requirement already satisfied: orjson>=3.8.2 in /usr/local/lib/python3.10/dist-packages (from docarray) (3.10.3)\n",
            "Requirement already satisfied: pydantic>=1.10.8 in /usr/local/lib/python3.10/dist-packages (from docarray) (1.10.15)\n",
            "Requirement already satisfied: rich>=13.1.0 in /usr/local/lib/python3.10/dist-packages (from docarray) (13.7.1)\n",
            "Requirement already satisfied: types-requests>=2.28.11.6 in /usr/local/lib/python3.10/dist-packages (from docarray) (2.31.0.6)\n",
            "Requirement already satisfied: typing-inspect>=0.8.0 in /usr/local/lib/python3.10/dist-packages (from docarray) (0.9.0)\n",
            "Requirement already satisfied: typing-extensions>=4.2.0 in /usr/local/lib/python3.10/dist-packages (from pydantic>=1.10.8->docarray) (4.11.0)\n",
            "Requirement already satisfied: markdown-it-py>=2.2.0 in /usr/local/lib/python3.10/dist-packages (from rich>=13.1.0->docarray) (3.0.0)\n",
            "Requirement already satisfied: pygments<3.0.0,>=2.13.0 in /usr/local/lib/python3.10/dist-packages (from rich>=13.1.0->docarray) (2.16.1)\n",
            "Requirement already satisfied: types-urllib3 in /usr/local/lib/python3.10/dist-packages (from types-requests>=2.28.11.6->docarray) (1.26.25.14)\n",
            "Requirement already satisfied: mypy-extensions>=0.3.0 in /usr/local/lib/python3.10/dist-packages (from typing-inspect>=0.8.0->docarray) (1.0.0)\n",
            "Requirement already satisfied: mdurl~=0.1 in /usr/local/lib/python3.10/dist-packages (from markdown-it-py>=2.2.0->rich>=13.1.0->docarray) (0.1.2)\n"
          ]
        }
      ]
    },
    {
      "cell_type": "code",
      "source": [
        "!pip install openai"
      ],
      "metadata": {
        "colab": {
          "base_uri": "https://localhost:8080/"
        },
        "id": "jQKZ-Lvf-hyP",
        "outputId": "f27aca11-cbb8-4064-cdc4-a28b6534a84d"
      },
      "execution_count": 8,
      "outputs": [
        {
          "output_type": "stream",
          "name": "stdout",
          "text": [
            "Requirement already satisfied: openai in /usr/local/lib/python3.10/dist-packages (1.28.0)\n",
            "Requirement already satisfied: anyio<5,>=3.5.0 in /usr/local/lib/python3.10/dist-packages (from openai) (3.7.1)\n",
            "Requirement already satisfied: distro<2,>=1.7.0 in /usr/lib/python3/dist-packages (from openai) (1.7.0)\n",
            "Requirement already satisfied: httpx<1,>=0.23.0 in /usr/local/lib/python3.10/dist-packages (from openai) (0.27.0)\n",
            "Requirement already satisfied: pydantic<3,>=1.9.0 in /usr/local/lib/python3.10/dist-packages (from openai) (1.10.15)\n",
            "Requirement already satisfied: sniffio in /usr/local/lib/python3.10/dist-packages (from openai) (1.3.1)\n",
            "Requirement already satisfied: tqdm>4 in /usr/local/lib/python3.10/dist-packages (from openai) (4.66.4)\n",
            "Requirement already satisfied: typing-extensions<5,>=4.7 in /usr/local/lib/python3.10/dist-packages (from openai) (4.11.0)\n",
            "Requirement already satisfied: idna>=2.8 in /usr/local/lib/python3.10/dist-packages (from anyio<5,>=3.5.0->openai) (3.7)\n",
            "Requirement already satisfied: exceptiongroup in /usr/local/lib/python3.10/dist-packages (from anyio<5,>=3.5.0->openai) (1.2.1)\n",
            "Requirement already satisfied: certifi in /usr/local/lib/python3.10/dist-packages (from httpx<1,>=0.23.0->openai) (2024.2.2)\n",
            "Requirement already satisfied: httpcore==1.* in /usr/local/lib/python3.10/dist-packages (from httpx<1,>=0.23.0->openai) (1.0.5)\n",
            "Requirement already satisfied: h11<0.15,>=0.13 in /usr/local/lib/python3.10/dist-packages (from httpcore==1.*->httpx<1,>=0.23.0->openai) (0.14.0)\n"
          ]
        }
      ]
    },
    {
      "cell_type": "code",
      "source": [
        "from openai import OpenAI\n",
        "client = OpenAI(api_key= \"sk-proj-iaPc4pb5qLNeOyNYyn0UT3BlbkFJnypoQDWLoXjKdLkWWX5m\")\n",
        "\n",
        "embedding_model = \"text-embedding-3-small\"\n",
        "response = client.embeddings.create(\n",
        "    input= dialogs[1],\n",
        "    dimensions=embedding_dimensions,\n",
        "    model=embedding_model\n",
        ")\n",
        "print(response.data[0].embedding)"
      ],
      "metadata": {
        "colab": {
          "base_uri": "https://localhost:8080/"
        },
        "id": "8jeF43ra24dZ",
        "outputId": "9ad8e1a7-1162-4b61-d069-8a9633c04539"
      },
      "execution_count": 9,
      "outputs": [
        {
          "output_type": "stream",
          "name": "stdout",
          "text": [
            "[-0.05508721247315407, 0.09779410809278488, 0.22118113934993744, 0.08780661970376968, 0.0746980533003807, 0.050405580550432205, -0.01784222200512886, -0.0235512126237154, -0.09472503513097763, -0.046270135790109634, -0.012191751971840858, -0.0384674146771431, -0.030820747837424278, 0.058936554938554764, 0.03776517137885094, -0.00566022377461195, -0.10164345055818558, -0.05019750818610191, 0.06429442018270493, -0.0053156036883592606, -0.06975632905960083, -0.09914657473564148, 0.03472210839390755, -0.036984898149967194, 0.12068209052085876, -0.04850691556930542, -0.02084627002477646, -0.0567517913877964, -0.006989937741309404, 0.08858689665794373, 0.1711396872997284, -0.025827007368206978, 0.02801176905632019, -0.014903197064995766, -0.1824796348810196, 0.19673261046409607, -0.012633905746042728, -0.13972072303295135, 0.011743095703423023, 0.0026789342518895864, 0.04900109022855759, 0.03230326622724533, -0.02887006849050522, 0.0694442167878151, 0.17550921440124512, -0.04257684946060181, -0.04814279079437256, -0.07667473703622818, -0.1160004585981369, -0.02464359439909458, -0.10663718730211258, 0.10580489784479141, 0.057011883705854416, -0.008192856796085835, -0.06013297289609909, -0.06403433531522751, -0.10512866079807281, -0.03391582891345024, 0.09071964025497437, 0.10200757533311844, -0.011964172124862671, 0.04455353692173958, 0.1209941953420639, 0.11277533322572708, 0.0762585923075676, -0.04671229049563408, -0.004603605717420578, -0.09108376502990723, 0.04114634916186333, -0.026815351098775864, -0.2825625538825989, -0.036620769649744034, -0.013511712662875652, -0.06351415067911148, 0.013537721708416939, -0.13379065692424774, -0.04793471843004227, -0.07745501399040222, 0.009506314992904663, 0.04161451384425163, -0.18892988562583923, 0.14294585585594177, 0.04601004719734192, -0.037036918103694916, 0.02352520450949669, -0.017022937536239624, -0.19413170218467712, 0.07802721112966537, -0.058780498802661896, -0.07896354049444199, 0.023772289976477623, -0.09040752798318863, -0.17082758247852325, 0.024227449670433998, -0.09581741690635681, 0.03604857251048088, 0.057688117027282715, -0.163441002368927, -0.13056553900241852, 0.058260317891836166, 0.12806867063045502, 0.07532227039337158, -0.06502267718315125, 0.136183500289917, -0.008472454734146595, 0.010897800326347351, -0.04369523748755455, -0.10356812179088593, 0.030872767791152, -0.02642521634697914, 0.23012825846672058, -0.011391973122954369, -0.05368272215127945, 0.03204317390918732, -0.027205487713217735, -0.14585886895656586, 0.09779410809278488, 0.14804363250732422, -0.020729228854179382, -0.04816879704594612, 0.0955573245882988, -0.03636068105697632, 7.782401371514425e-05, 0.11932961642742157, 0.10778158903121948, 0.05524326488375664, -0.04366923123598099, -0.012087715789675713]\n"
          ]
        }
      ]
    },
    {
      "cell_type": "code",
      "source": [
        "print(len(response.data[0].embedding))"
      ],
      "metadata": {
        "colab": {
          "base_uri": "https://localhost:8080/"
        },
        "id": "E1gRz77X3Og1",
        "outputId": "d466d11c-cfec-44fb-a812-8e10530b3993"
      },
      "execution_count": 10,
      "outputs": [
        {
          "output_type": "stream",
          "name": "stdout",
          "text": [
            "128\n"
          ]
        }
      ]
    },
    {
      "cell_type": "code",
      "source": [
        "embeddings = []\n",
        "\n",
        "for i in range(0, len(dialogs), 128):\n",
        "    dialog_slice = dialogs[i:i+128]\n",
        "    slice_embeddings = client.embeddings.create(\n",
        "        input = dialog_slice,\n",
        "        dimensions=embedding_dimensions,\n",
        "        model=embedding_model\n",
        "    )\n",
        "\n",
        "    embeddings.extend(slice_embeddings.data)"
      ],
      "metadata": {
        "id": "fHw1xrht3OnT"
      },
      "execution_count": 11,
      "outputs": []
    },
    {
      "cell_type": "code",
      "source": [
        "print(len(embeddings))"
      ],
      "metadata": {
        "colab": {
          "base_uri": "https://localhost:8080/"
        },
        "id": "xyEMZdsF3OqA",
        "outputId": "bc67c740-b962-4f04-b906-0bd8afc046f5"
      },
      "execution_count": 12,
      "outputs": [
        {
          "output_type": "stream",
          "name": "stdout",
          "text": [
            "5247\n"
          ]
        }
      ]
    },
    {
      "cell_type": "code",
      "source": [
        "!pip install vectordb"
      ],
      "metadata": {
        "id": "UvzjvvlT4sZw",
        "colab": {
          "base_uri": "https://localhost:8080/"
        },
        "outputId": "fe9172c3-6423-4cbc-b2d6-97760f4b5f72"
      },
      "execution_count": 13,
      "outputs": [
        {
          "output_type": "stream",
          "name": "stdout",
          "text": [
            "Requirement already satisfied: vectordb in /usr/local/lib/python3.10/dist-packages (0.0.21)\n",
            "Requirement already satisfied: jina>=3.20.0 in /usr/local/lib/python3.10/dist-packages (from vectordb) (3.25.1)\n",
            "Requirement already satisfied: docarray[hnswlib]>=0.34.0 in /usr/local/lib/python3.10/dist-packages (from vectordb) (0.40.0)\n",
            "Requirement already satisfied: numpy>=1.17.3 in /usr/local/lib/python3.10/dist-packages (from docarray[hnswlib]>=0.34.0->vectordb) (1.25.2)\n",
            "Requirement already satisfied: orjson>=3.8.2 in /usr/local/lib/python3.10/dist-packages (from docarray[hnswlib]>=0.34.0->vectordb) (3.10.3)\n",
            "Requirement already satisfied: pydantic>=1.10.8 in /usr/local/lib/python3.10/dist-packages (from docarray[hnswlib]>=0.34.0->vectordb) (1.10.15)\n",
            "Requirement already satisfied: rich>=13.1.0 in /usr/local/lib/python3.10/dist-packages (from docarray[hnswlib]>=0.34.0->vectordb) (13.7.1)\n",
            "Requirement already satisfied: types-requests>=2.28.11.6 in /usr/local/lib/python3.10/dist-packages (from docarray[hnswlib]>=0.34.0->vectordb) (2.31.0.6)\n",
            "Requirement already satisfied: typing-inspect>=0.8.0 in /usr/local/lib/python3.10/dist-packages (from docarray[hnswlib]>=0.34.0->vectordb) (0.9.0)\n",
            "Requirement already satisfied: hnswlib>=0.7.0 in /usr/local/lib/python3.10/dist-packages (from docarray[hnswlib]>=0.34.0->vectordb) (0.8.0)\n",
            "Requirement already satisfied: protobuf>=3.20.0 in /usr/local/lib/python3.10/dist-packages (from docarray[hnswlib]>=0.34.0->vectordb) (4.25.3)\n",
            "Requirement already satisfied: prometheus-client>=0.12.0 in /usr/local/lib/python3.10/dist-packages (from jina>=3.20.0->vectordb) (0.20.0)\n",
            "Requirement already satisfied: requests in /usr/local/lib/python3.10/dist-packages (from jina>=3.20.0->vectordb) (2.31.0)\n",
            "Requirement already satisfied: uvicorn[standard]<=0.23.1 in /usr/local/lib/python3.10/dist-packages (from jina>=3.20.0->vectordb) (0.23.1)\n",
            "Requirement already satisfied: packaging>=20.0 in /usr/local/lib/python3.10/dist-packages (from jina>=3.20.0->vectordb) (24.0)\n",
            "Requirement already satisfied: docker in /usr/local/lib/python3.10/dist-packages (from jina>=3.20.0->vectordb) (7.0.0)\n",
            "Requirement already satisfied: urllib3<2.0.0,>=1.25.9 in /usr/local/lib/python3.10/dist-packages (from jina>=3.20.0->vectordb) (1.26.18)\n",
            "Requirement already satisfied: opentelemetry-exporter-otlp-proto-grpc>=1.13.0 in /usr/local/lib/python3.10/dist-packages (from jina>=3.20.0->vectordb) (1.19.0)\n",
            "Requirement already satisfied: python-multipart in /usr/local/lib/python3.10/dist-packages (from jina>=3.20.0->vectordb) (0.0.9)\n",
            "Requirement already satisfied: pyyaml>=5.3.1 in /usr/local/lib/python3.10/dist-packages (from jina>=3.20.0->vectordb) (6.0.1)\n",
            "Requirement already satisfied: opentelemetry-exporter-prometheus>=0.33b0 in /usr/local/lib/python3.10/dist-packages (from jina>=3.20.0->vectordb) (0.41b0)\n",
            "Requirement already satisfied: grpcio-reflection<=1.57.0,>=1.46.0 in /usr/local/lib/python3.10/dist-packages (from jina>=3.20.0->vectordb) (1.57.0)\n",
            "Requirement already satisfied: opentelemetry-instrumentation-aiohttp-client>=0.33b0 in /usr/local/lib/python3.10/dist-packages (from jina>=3.20.0->vectordb) (0.40b0)\n",
            "Requirement already satisfied: jcloud>=0.0.35 in /usr/local/lib/python3.10/dist-packages (from jina>=3.20.0->vectordb) (0.3)\n",
            "Requirement already satisfied: opentelemetry-api>=1.12.0 in /usr/local/lib/python3.10/dist-packages (from jina>=3.20.0->vectordb) (1.19.0)\n",
            "Requirement already satisfied: filelock in /usr/local/lib/python3.10/dist-packages (from jina>=3.20.0->vectordb) (3.14.0)\n",
            "Requirement already satisfied: opentelemetry-exporter-otlp>=1.12.0 in /usr/local/lib/python3.10/dist-packages (from jina>=3.20.0->vectordb) (1.19.0)\n",
            "Requirement already satisfied: grpcio-health-checking<=1.57.0,>=1.46.0 in /usr/local/lib/python3.10/dist-packages (from jina>=3.20.0->vectordb) (1.57.0)\n",
            "Requirement already satisfied: pathspec in /usr/local/lib/python3.10/dist-packages (from jina>=3.20.0->vectordb) (0.12.1)\n",
            "Requirement already satisfied: grpcio<=1.57.0,>=1.46.0 in /usr/local/lib/python3.10/dist-packages (from jina>=3.20.0->vectordb) (1.57.0)\n",
            "Requirement already satisfied: opentelemetry-instrumentation-fastapi>=0.33b0 in /usr/local/lib/python3.10/dist-packages (from jina>=3.20.0->vectordb) (0.40b0)\n",
            "Requirement already satisfied: opentelemetry-sdk<1.20.0,>=1.14.0 in /usr/local/lib/python3.10/dist-packages (from jina>=3.20.0->vectordb) (1.19.0)\n",
            "Requirement already satisfied: fastapi>=0.76.0 in /usr/local/lib/python3.10/dist-packages (from jina>=3.20.0->vectordb) (0.111.0)\n",
            "Requirement already satisfied: aiohttp in /usr/local/lib/python3.10/dist-packages (from jina>=3.20.0->vectordb) (3.9.5)\n",
            "Requirement already satisfied: websockets in /usr/local/lib/python3.10/dist-packages (from jina>=3.20.0->vectordb) (12.0)\n",
            "Requirement already satisfied: aiofiles in /usr/local/lib/python3.10/dist-packages (from jina>=3.20.0->vectordb) (23.2.1)\n",
            "Requirement already satisfied: jina-hubble-sdk>=0.30.4 in /usr/local/lib/python3.10/dist-packages (from jina>=3.20.0->vectordb) (0.39.0)\n",
            "Requirement already satisfied: opentelemetry-instrumentation-grpc>=0.35b0 in /usr/local/lib/python3.10/dist-packages (from jina>=3.20.0->vectordb) (0.40b0)\n",
            "Requirement already satisfied: uvloop in /usr/local/lib/python3.10/dist-packages (from jina>=3.20.0->vectordb) (0.19.0)\n",
            "Requirement already satisfied: starlette<0.38.0,>=0.37.2 in /usr/local/lib/python3.10/dist-packages (from fastapi>=0.76.0->jina>=3.20.0->vectordb) (0.37.2)\n",
            "Requirement already satisfied: typing-extensions>=4.8.0 in /usr/local/lib/python3.10/dist-packages (from fastapi>=0.76.0->jina>=3.20.0->vectordb) (4.11.0)\n",
            "Requirement already satisfied: fastapi-cli>=0.0.2 in /usr/local/lib/python3.10/dist-packages (from fastapi>=0.76.0->jina>=3.20.0->vectordb) (0.0.3)\n",
            "Requirement already satisfied: httpx>=0.23.0 in /usr/local/lib/python3.10/dist-packages (from fastapi>=0.76.0->jina>=3.20.0->vectordb) (0.27.0)\n",
            "Requirement already satisfied: jinja2>=2.11.2 in /usr/local/lib/python3.10/dist-packages (from fastapi>=0.76.0->jina>=3.20.0->vectordb) (3.1.4)\n",
            "Requirement already satisfied: ujson!=4.0.2,!=4.1.0,!=4.2.0,!=4.3.0,!=5.0.0,!=5.1.0,>=4.0.1 in /usr/local/lib/python3.10/dist-packages (from fastapi>=0.76.0->jina>=3.20.0->vectordb) (5.9.0)\n",
            "Requirement already satisfied: email_validator>=2.0.0 in /usr/local/lib/python3.10/dist-packages (from fastapi>=0.76.0->jina>=3.20.0->vectordb) (2.1.1)\n",
            "Requirement already satisfied: python-dotenv in /usr/local/lib/python3.10/dist-packages (from jcloud>=0.0.35->jina>=3.20.0->vectordb) (1.0.1)\n",
            "Requirement already satisfied: python-dateutil in /usr/local/lib/python3.10/dist-packages (from jcloud>=0.0.35->jina>=3.20.0->vectordb) (2.8.2)\n",
            "Requirement already satisfied: aiosignal>=1.1.2 in /usr/local/lib/python3.10/dist-packages (from aiohttp->jina>=3.20.0->vectordb) (1.3.1)\n",
            "Requirement already satisfied: attrs>=17.3.0 in /usr/local/lib/python3.10/dist-packages (from aiohttp->jina>=3.20.0->vectordb) (23.2.0)\n",
            "Requirement already satisfied: frozenlist>=1.1.1 in /usr/local/lib/python3.10/dist-packages (from aiohttp->jina>=3.20.0->vectordb) (1.4.1)\n",
            "Requirement already satisfied: multidict<7.0,>=4.5 in /usr/local/lib/python3.10/dist-packages (from aiohttp->jina>=3.20.0->vectordb) (6.0.5)\n",
            "Requirement already satisfied: yarl<2.0,>=1.0 in /usr/local/lib/python3.10/dist-packages (from aiohttp->jina>=3.20.0->vectordb) (1.9.4)\n",
            "Requirement already satisfied: async-timeout<5.0,>=4.0 in /usr/local/lib/python3.10/dist-packages (from aiohttp->jina>=3.20.0->vectordb) (4.0.3)\n",
            "Requirement already satisfied: importlib-metadata in /usr/local/lib/python3.10/dist-packages (from jina-hubble-sdk>=0.30.4->jina>=3.20.0->vectordb) (6.11.0)\n",
            "Requirement already satisfied: python-jose in /usr/local/lib/python3.10/dist-packages (from jina-hubble-sdk>=0.30.4->jina>=3.20.0->vectordb) (3.3.0)\n",
            "Requirement already satisfied: deprecated>=1.2.6 in /usr/local/lib/python3.10/dist-packages (from opentelemetry-api>=1.12.0->jina>=3.20.0->vectordb) (1.2.14)\n",
            "Requirement already satisfied: opentelemetry-exporter-otlp-proto-http==1.19.0 in /usr/local/lib/python3.10/dist-packages (from opentelemetry-exporter-otlp>=1.12.0->jina>=3.20.0->vectordb) (1.19.0)\n",
            "Requirement already satisfied: backoff<3.0.0,>=1.10.0 in /usr/local/lib/python3.10/dist-packages (from opentelemetry-exporter-otlp-proto-grpc>=1.13.0->jina>=3.20.0->vectordb) (2.2.1)\n",
            "Requirement already satisfied: googleapis-common-protos~=1.52 in /usr/local/lib/python3.10/dist-packages (from opentelemetry-exporter-otlp-proto-grpc>=1.13.0->jina>=3.20.0->vectordb) (1.63.0)\n",
            "Requirement already satisfied: opentelemetry-exporter-otlp-proto-common==1.19.0 in /usr/local/lib/python3.10/dist-packages (from opentelemetry-exporter-otlp-proto-grpc>=1.13.0->jina>=3.20.0->vectordb) (1.19.0)\n",
            "Requirement already satisfied: opentelemetry-proto==1.19.0 in /usr/local/lib/python3.10/dist-packages (from opentelemetry-exporter-otlp-proto-grpc>=1.13.0->jina>=3.20.0->vectordb) (1.19.0)\n",
            "Requirement already satisfied: opentelemetry-instrumentation==0.40b0 in /usr/local/lib/python3.10/dist-packages (from opentelemetry-instrumentation-aiohttp-client>=0.33b0->jina>=3.20.0->vectordb) (0.40b0)\n",
            "Requirement already satisfied: opentelemetry-semantic-conventions==0.40b0 in /usr/local/lib/python3.10/dist-packages (from opentelemetry-instrumentation-aiohttp-client>=0.33b0->jina>=3.20.0->vectordb) (0.40b0)\n",
            "Requirement already satisfied: opentelemetry-util-http==0.40b0 in /usr/local/lib/python3.10/dist-packages (from opentelemetry-instrumentation-aiohttp-client>=0.33b0->jina>=3.20.0->vectordb) (0.40b0)\n",
            "Requirement already satisfied: wrapt<2.0.0,>=1.0.0 in /usr/local/lib/python3.10/dist-packages (from opentelemetry-instrumentation-aiohttp-client>=0.33b0->jina>=3.20.0->vectordb) (1.14.1)\n",
            "Requirement already satisfied: setuptools>=16.0 in /usr/local/lib/python3.10/dist-packages (from opentelemetry-instrumentation==0.40b0->opentelemetry-instrumentation-aiohttp-client>=0.33b0->jina>=3.20.0->vectordb) (67.7.2)\n",
            "Requirement already satisfied: opentelemetry-instrumentation-asgi==0.40b0 in /usr/local/lib/python3.10/dist-packages (from opentelemetry-instrumentation-fastapi>=0.33b0->jina>=3.20.0->vectordb) (0.40b0)\n",
            "Requirement already satisfied: asgiref~=3.0 in /usr/local/lib/python3.10/dist-packages (from opentelemetry-instrumentation-asgi==0.40b0->opentelemetry-instrumentation-fastapi>=0.33b0->jina>=3.20.0->vectordb) (3.8.1)\n",
            "Requirement already satisfied: charset-normalizer<4,>=2 in /usr/local/lib/python3.10/dist-packages (from requests->jina>=3.20.0->vectordb) (3.3.2)\n",
            "Requirement already satisfied: idna<4,>=2.5 in /usr/local/lib/python3.10/dist-packages (from requests->jina>=3.20.0->vectordb) (3.7)\n",
            "Requirement already satisfied: certifi>=2017.4.17 in /usr/local/lib/python3.10/dist-packages (from requests->jina>=3.20.0->vectordb) (2024.2.2)\n",
            "Requirement already satisfied: markdown-it-py>=2.2.0 in /usr/local/lib/python3.10/dist-packages (from rich>=13.1.0->docarray[hnswlib]>=0.34.0->vectordb) (3.0.0)\n",
            "Requirement already satisfied: pygments<3.0.0,>=2.13.0 in /usr/local/lib/python3.10/dist-packages (from rich>=13.1.0->docarray[hnswlib]>=0.34.0->vectordb) (2.16.1)\n",
            "Requirement already satisfied: types-urllib3 in /usr/local/lib/python3.10/dist-packages (from types-requests>=2.28.11.6->docarray[hnswlib]>=0.34.0->vectordb) (1.26.25.14)\n",
            "Requirement already satisfied: mypy-extensions>=0.3.0 in /usr/local/lib/python3.10/dist-packages (from typing-inspect>=0.8.0->docarray[hnswlib]>=0.34.0->vectordb) (1.0.0)\n",
            "Requirement already satisfied: click>=7.0 in /usr/local/lib/python3.10/dist-packages (from uvicorn[standard]<=0.23.1->jina>=3.20.0->vectordb) (8.1.7)\n",
            "Requirement already satisfied: h11>=0.8 in /usr/local/lib/python3.10/dist-packages (from uvicorn[standard]<=0.23.1->jina>=3.20.0->vectordb) (0.14.0)\n",
            "Requirement already satisfied: httptools>=0.5.0 in /usr/local/lib/python3.10/dist-packages (from uvicorn[standard]<=0.23.1->jina>=3.20.0->vectordb) (0.6.1)\n",
            "Requirement already satisfied: watchfiles>=0.13 in /usr/local/lib/python3.10/dist-packages (from uvicorn[standard]<=0.23.1->jina>=3.20.0->vectordb) (0.21.0)\n",
            "Requirement already satisfied: dnspython>=2.0.0 in /usr/local/lib/python3.10/dist-packages (from email_validator>=2.0.0->fastapi>=0.76.0->jina>=3.20.0->vectordb) (2.6.1)\n",
            "Requirement already satisfied: typer>=0.12.3 in /usr/local/lib/python3.10/dist-packages (from fastapi-cli>=0.0.2->fastapi>=0.76.0->jina>=3.20.0->vectordb) (0.12.3)\n",
            "Requirement already satisfied: anyio in /usr/local/lib/python3.10/dist-packages (from httpx>=0.23.0->fastapi>=0.76.0->jina>=3.20.0->vectordb) (3.7.1)\n",
            "Requirement already satisfied: httpcore==1.* in /usr/local/lib/python3.10/dist-packages (from httpx>=0.23.0->fastapi>=0.76.0->jina>=3.20.0->vectordb) (1.0.5)\n",
            "Requirement already satisfied: sniffio in /usr/local/lib/python3.10/dist-packages (from httpx>=0.23.0->fastapi>=0.76.0->jina>=3.20.0->vectordb) (1.3.1)\n",
            "Requirement already satisfied: zipp>=0.5 in /usr/local/lib/python3.10/dist-packages (from importlib-metadata->jina-hubble-sdk>=0.30.4->jina>=3.20.0->vectordb) (3.18.1)\n",
            "Requirement already satisfied: MarkupSafe>=2.0 in /usr/local/lib/python3.10/dist-packages (from jinja2>=2.11.2->fastapi>=0.76.0->jina>=3.20.0->vectordb) (2.1.5)\n",
            "Requirement already satisfied: mdurl~=0.1 in /usr/local/lib/python3.10/dist-packages (from markdown-it-py>=2.2.0->rich>=13.1.0->docarray[hnswlib]>=0.34.0->vectordb) (0.1.2)\n",
            "Requirement already satisfied: six>=1.5 in /usr/local/lib/python3.10/dist-packages (from python-dateutil->jcloud>=0.0.35->jina>=3.20.0->vectordb) (1.16.0)\n",
            "Requirement already satisfied: ecdsa!=0.15 in /usr/local/lib/python3.10/dist-packages (from python-jose->jina-hubble-sdk>=0.30.4->jina>=3.20.0->vectordb) (0.19.0)\n",
            "Requirement already satisfied: rsa in /usr/local/lib/python3.10/dist-packages (from python-jose->jina-hubble-sdk>=0.30.4->jina>=3.20.0->vectordb) (4.9)\n",
            "Requirement already satisfied: pyasn1 in /usr/local/lib/python3.10/dist-packages (from python-jose->jina-hubble-sdk>=0.30.4->jina>=3.20.0->vectordb) (0.6.0)\n",
            "Requirement already satisfied: exceptiongroup in /usr/local/lib/python3.10/dist-packages (from anyio->httpx>=0.23.0->fastapi>=0.76.0->jina>=3.20.0->vectordb) (1.2.1)\n",
            "Requirement already satisfied: shellingham>=1.3.0 in /usr/local/lib/python3.10/dist-packages (from typer>=0.12.3->fastapi-cli>=0.0.2->fastapi>=0.76.0->jina>=3.20.0->vectordb) (1.5.4)\n"
          ]
        }
      ]
    },
    {
      "cell_type": "code",
      "source": [
        "from docarray import DocList\n",
        "import numpy as np\n",
        "from vectordb import InMemoryExactNNVectorDB"
      ],
      "metadata": {
        "id": "4N_Vvr5S3Osu"
      },
      "execution_count": 14,
      "outputs": []
    },
    {
      "cell_type": "code",
      "source": [
        "db = InMemoryExactNNVectorDB[DialogLine](workspace = 'workspace')"
      ],
      "metadata": {
        "colab": {
          "base_uri": "https://localhost:8080/"
        },
        "id": "PmEymyEa3Ovn",
        "outputId": "84c14f33-7e93-4ee6-de5f-a62b7564b089"
      },
      "execution_count": 15,
      "outputs": [
        {
          "output_type": "stream",
          "name": "stderr",
          "text": [
            "WARNING - docarray - Index file does not exist: /content/workspace/InMemoryExactNNIndexer[DialogLine][DialogLineWithMatchesAndScores]/index.bin. Initializing empty InMemoryExactNNIndex.\n",
            "WARNING:docarray:Index file does not exist: /content/workspace/InMemoryExactNNIndexer[DialogLine][DialogLineWithMatchesAndScores]/index.bin. Initializing empty InMemoryExactNNIndex.\n"
          ]
        }
      ]
    },
    {
      "cell_type": "code",
      "source": [
        "doc_list = [DialogLine(text = dialogs[i], embedding=embeddings[i].embedding) for i in range(len(embeddings))]\n",
        "db.index(inputs=DocList[DialogLine](doc_list))"
      ],
      "metadata": {
        "colab": {
          "base_uri": "https://localhost:8080/"
        },
        "id": "670I45cK6F_w",
        "outputId": "e1716b7b-6349-48a3-9f67-55f70045b20a"
      },
      "execution_count": 16,
      "outputs": [
        {
          "output_type": "execute_result",
          "data": {
            "text/plain": [
              "<DocList[DialogLine] (length=5247)>"
            ]
          },
          "metadata": {},
          "execution_count": 16
        }
      ]
    },
    {
      "cell_type": "code",
      "source": [
        "queryText = 'O que faz a alianca democratica'\n",
        "response = client.embeddings.create(\n",
        "    input=queryText,\n",
        "    dimensions=embedding_dimensions,\n",
        "    model=embedding_model\n",
        ")\n",
        "query = DialogLine(text=queryText, embedding=response.data[0].embedding)\n",
        "results = db.search(inputs=DocList[DialogLine]([query]), limit=10)\n",
        "\n",
        "for m in results[0].matches:\n",
        "  print(m)"
      ],
      "metadata": {
        "colab": {
          "base_uri": "https://localhost:8080/",
          "height": 1000
        },
        "id": "DRF4rM5D7nN2",
        "outputId": "20bbfd8c-2fca-4eff-89e9-be7f2f802645"
      },
      "execution_count": 17,
      "outputs": [
        {
          "output_type": "display_data",
          "data": {
            "text/plain": [],
            "text/html": [
              "<pre style=\"white-space:pre;overflow-x:auto;line-height:normal;font-family:Menlo,'DejaVu Sans Mono',consolas,'Courier New',monospace\"></pre>\n"
            ]
          },
          "metadata": {}
        },
        {
          "output_type": "stream",
          "name": "stdout",
          "text": [
            "\u001b[1;35mDialogLine\u001b[0m\u001b[1m(\u001b[0m\n",
            "    \u001b[33mid\u001b[0m=\u001b[32m'17afc73e3e280eeffcd4ac2a538e178b'\u001b[0m,\n",
            "    \u001b[33mtext\u001b[0m=\u001b[32m'da aliança democrática\\n'\u001b[0m,\n",
            "    \u001b[33membedding\u001b[0m=\u001b[1;35mNdArray\u001b[0m\u001b[1m(\u001b[0m\u001b[1m[\u001b[0m \u001b[1;36m0.02143601\u001b[0m,  \u001b[1;36m0.04097069\u001b[0m,  \u001b[1;36m0.19822943\u001b[0m,  \u001b[1;36m0.12892273\u001b[0m, \u001b[1;36m-0.03787335\u001b[0m,\n",
            "          \u001b[1;36m0.08703204\u001b[0m, \u001b[1;36m-0.00805\u001b[0m   ,  \u001b[1;36m0.18976542\u001b[0m, \u001b[1;36m-0.09690671\u001b[0m, \u001b[1;36m-0.09451471\u001b[0m,\n",
            "          \u001b[1;36m0.02770735\u001b[0m, \u001b[1;36m-0.03453068\u001b[0m, \u001b[1;36m-0.01417567\u001b[0m, \u001b[1;36m-0.08684804\u001b[0m,  \u001b[1;36m0.04768669\u001b[0m,\n",
            "         \u001b[1;36m-0.02252468\u001b[0m, \u001b[1;36m-0.10481872\u001b[0m,  \u001b[1;36m0.05265469\u001b[0m,  \u001b[1;36m0.11524539\u001b[0m,  \u001b[1;36m0.10678139\u001b[0m,\n",
            "         \u001b[1;36m-0.17001608\u001b[0m,  \u001b[1;36m0.01899801\u001b[0m, \u001b[1;36m-0.04186002\u001b[0m,  \u001b[1;36m0.00151225\u001b[0m,  \u001b[1;36m0.09365605\u001b[0m,\n",
            "         \u001b[1;36m-0.00125925\u001b[0m, \u001b[1;36m-0.02321468\u001b[0m, \u001b[1;36m-0.16645874\u001b[0m,  \u001b[1;36m0.06936803\u001b[0m, \u001b[1;36m-0.00121421\u001b[0m,\n",
            "          \u001b[1;36m0.11230139\u001b[0m, \u001b[1;36m-0.05777603\u001b[0m,  \u001b[1;36m0.04943469\u001b[0m,  \u001b[1;36m0.007659\u001b[0m  , \u001b[1;36m-0.03057468\u001b[0m,\n",
            "          \u001b[1;36m0.25710946\u001b[0m, \u001b[1;36m-0.08102138\u001b[0m, \u001b[1;36m-0.1514934\u001b[0m ,  \u001b[1;36m0.0070495\u001b[0m , \u001b[1;36m-0.01457434\u001b[0m,\n",
            "         \u001b[1;36m-0.0729867\u001b[0m , \u001b[1;36m-0.06182403\u001b[0m,  \u001b[1;36m0.04529469\u001b[0m,  \u001b[1;36m0.15100273\u001b[0m,  \u001b[1;36m0.20448543\u001b[0m,\n",
            "         \u001b[1;36m-0.09819472\u001b[0m,  \u001b[1;36m0.00739834\u001b[0m,  \u001b[1;36m0.00987467\u001b[0m, \u001b[1;36m-0.02497801\u001b[0m, \u001b[1;36m-0.03040601\u001b[0m,\n",
            "          \u001b[1;36m0.04940403\u001b[0m,  \u001b[1;36m0.0682027\u001b[0m ,  \u001b[1;36m0.04241202\u001b[0m,  \u001b[1;36m0.11150406\u001b[0m, \u001b[1;36m-0.08930138\u001b[0m,\n",
            "         \u001b[1;36m-0.11432539\u001b[0m,  \u001b[1;36m0.03655468\u001b[0m, \u001b[1;36m-0.03897735\u001b[0m, \u001b[1;36m-0.02833601\u001b[0m,  \u001b[1;36m0.12113339\u001b[0m,\n",
            "         \u001b[1;36m-0.09445338\u001b[0m, \u001b[1;36m-0.00084429\u001b[0m,  \u001b[1;36m0.03597202\u001b[0m,  \u001b[1;36m0.2049761\u001b[0m , \u001b[1;36m-0.06421603\u001b[0m,\n",
            "          \u001b[1;36m0.07065603\u001b[0m, \u001b[1;36m-0.08948538\u001b[0m, \u001b[1;36m-0.05133602\u001b[0m,  \u001b[1;36m0.07513337\u001b[0m,  \u001b[1;36m0.03860935\u001b[0m,\n",
            "         \u001b[1;36m-0.11910939\u001b[0m, \u001b[1;36m-0.04455869\u001b[0m,  \u001b[1;36m0.01136967\u001b[0m, \u001b[1;36m-0.10040271\u001b[0m,  \u001b[1;36m0.01082534\u001b[0m,\n",
            "         \u001b[1;36m-0.12180806\u001b[0m, \u001b[1;36m-0.03404002\u001b[0m, \u001b[1;36m-0.12585606\u001b[0m, \u001b[1;36m-0.10776272\u001b[0m,  \u001b[1;36m0.1268374\u001b[0m ,\n",
            "         \u001b[1;36m-0.18976542\u001b[0m,  \u001b[1;36m0.12009072\u001b[0m,  \u001b[1;36m0.01097101\u001b[0m, \u001b[1;36m-0.02907201\u001b[0m,  \u001b[1;36m0.09966671\u001b[0m,\n",
            "         \u001b[1;36m-0.10604539\u001b[0m, \u001b[1;36m-0.21233611\u001b[0m,  \u001b[1;36m0.0682027\u001b[0m ,  \u001b[1;36m0.04971069\u001b[0m,  \u001b[1;36m0.08089871\u001b[0m,\n",
            "          \u001b[1;36m0.03949869\u001b[0m, \u001b[1;36m-0.0702267\u001b[0m , \u001b[1;36m-0.11929339\u001b[0m,  \u001b[1;36m0.02077668\u001b[0m, \u001b[1;36m-0.01275734\u001b[0m,\n",
            "         \u001b[1;36m-0.02415001\u001b[0m, \u001b[1;36m-0.01965734\u001b[0m, \u001b[1;36m-0.02723201\u001b[0m,  \u001b[1;36m0.06124136\u001b[0m,  \u001b[1;36m0.04848402\u001b[0m,\n",
            "          \u001b[1;36m0.09776538\u001b[0m,  \u001b[1;36m0.02234068\u001b[0m,  \u001b[1;36m0.04774802\u001b[0m,  \u001b[1;36m0.01207501\u001b[0m, \u001b[1;36m-0.07016537\u001b[0m,\n",
            "          \u001b[1;36m0.04182936\u001b[0m,  \u001b[1;36m0.08280004\u001b[0m, \u001b[1;36m-0.07734137\u001b[0m,  \u001b[1;36m0.05875736\u001b[0m,  \u001b[1;36m0.10794672\u001b[0m,\n",
            "          \u001b[1;36m0.18915209\u001b[0m,  \u001b[1;36m0.06421603\u001b[0m, \u001b[1;36m-0.01764867\u001b[0m,  \u001b[1;36m0.04787069\u001b[0m,  \u001b[1;36m0.07310937\u001b[0m,\n",
            "         \u001b[1;36m-0.02162001\u001b[0m,  \u001b[1;36m0.11585873\u001b[0m,  \u001b[1;36m0.010005\u001b[0m  ,  \u001b[1;36m0.05891069\u001b[0m, \u001b[1;36m-0.05529203\u001b[0m,\n",
            "         \u001b[1;36m-0.08697071\u001b[0m, \u001b[1;36m-0.06666937\u001b[0m,  \u001b[1;36m0.03775068\u001b[0m, \u001b[1;36m-0.07715737\u001b[0m, \u001b[1;36m-0.06124136\u001b[0m,\n",
            "         \u001b[1;36m-0.11665606\u001b[0m,  \u001b[1;36m0.03410135\u001b[0m,  \u001b[1;36m0.11236272\u001b[0m\u001b[1m]\u001b[0m\u001b[1m)\u001b[0m\n",
            "\u001b[1m)\u001b[0m\n"
          ]
        },
        {
          "output_type": "display_data",
          "data": {
            "text/plain": [],
            "text/html": [
              "<pre style=\"white-space:pre;overflow-x:auto;line-height:normal;font-family:Menlo,'DejaVu Sans Mono',consolas,'Courier New',monospace\"></pre>\n"
            ]
          },
          "metadata": {}
        },
        {
          "output_type": "stream",
          "name": "stdout",
          "text": [
            "\u001b[1;35mDialogLine\u001b[0m\u001b[1m(\u001b[0m\n",
            "    \u001b[33mid\u001b[0m=\u001b[32m'3e274e9b741f30d25768451463445b6e'\u001b[0m,\n",
            "    \u001b[33mtext\u001b[0m=\u001b[32m'A Aliança Democrática propõe, assim, uma “efetiva mudança política e de políticas” no país, “com muito \u001b[0m\n",
            "\u001b[32mmais ambição, para elevados níveis de prosperidade, de crescimento da economia e dos rendimentos e oportunidades \u001b[0m\n",
            "\u001b[32mpara todos os portugueses”.\\n'\u001b[0m,\n",
            "    \u001b[33membedding\u001b[0m=\u001b[1;35mNdArray\u001b[0m\u001b[1m(\u001b[0m\u001b[1m[\u001b[0m \u001b[1;36m0.06792788\u001b[0m, \u001b[1;36m-0.0150012\u001b[0m ,  \u001b[1;36m0.13685308\u001b[0m,  \u001b[1;36m0.11025815\u001b[0m,  \u001b[1;36m0.04432488\u001b[0m,\n",
            "          \u001b[1;36m0.11879069\u001b[0m,  \u001b[1;36m0.09640662\u001b[0m,  \u001b[1;36m0.13718551\u001b[0m,  \u001b[1;36m0.01233478\u001b[0m, \u001b[1;36m-0.01570763\u001b[0m,\n",
            "         \u001b[1;36m-0.06244268\u001b[0m, \u001b[1;36m-0.03953226\u001b[0m, \u001b[1;36m-0.08344159\u001b[0m, \u001b[1;36m-0.1298719\u001b[0m ,  \u001b[1;36m0.09568635\u001b[0m,\n",
            "          \u001b[1;36m0.01534749\u001b[0m, \u001b[1;36m-0.04415866\u001b[0m, \u001b[1;36m-0.05141687\u001b[0m,  \u001b[1;36m0.1769671\u001b[0m , \u001b[1;36m-0.00900349\u001b[0m,\n",
            "         \u001b[1;36m-0.02671959\u001b[0m, \u001b[1;36m-0.07557393\u001b[0m, \u001b[1;36m-0.04684586\u001b[0m,  \u001b[1;36m0.08848355\u001b[0m,  \u001b[1;36m0.0535777\u001b[0m ,\n",
            "         \u001b[1;36m-0.08338619\u001b[0m, \u001b[1;36m-0.01156602\u001b[0m, \u001b[1;36m-0.19126187\u001b[0m, \u001b[1;36m-0.02818786\u001b[0m, \u001b[1;36m-0.02263339\u001b[0m,\n",
            "          \u001b[1;36m0.15635602\u001b[0m, \u001b[1;36m-0.00890653\u001b[0m,  \u001b[1;36m0.05363311\u001b[0m,  \u001b[1;36m0.04296743\u001b[0m, \u001b[1;36m-0.03158148\u001b[0m,\n",
            "          \u001b[1;36m0.18250771\u001b[0m, \u001b[1;36m-0.13175571\u001b[0m,  \u001b[1;36m0.02069418\u001b[0m,  \u001b[1;36m0.13386115\u001b[0m, \u001b[1;36m-0.13208815\u001b[0m,\n",
            "         \u001b[1;36m-0.00362217\u001b[0m, \u001b[1;36m-0.05939534\u001b[0m,  \u001b[1;36m0.02004316\u001b[0m,  \u001b[1;36m0.03457341\u001b[0m,  \u001b[1;36m0.1034432\u001b[0m ,\n",
            "         \u001b[1;36m-0.06909141\u001b[0m, \u001b[1;36m-0.00860872\u001b[0m, \u001b[1;36m-0.05548921\u001b[0m, \u001b[1;36m-0.06006022\u001b[0m, \u001b[1;36m-0.05149997\u001b[0m,\n",
            "          \u001b[1;36m0.01635865\u001b[0m,  \u001b[1;36m0.07435499\u001b[0m, \u001b[1;36m-0.03548761\u001b[0m,  \u001b[1;36m0.11735013\u001b[0m, \u001b[1;36m-0.02872807\u001b[0m,\n",
            "         \u001b[1;36m-0.08443891\u001b[0m,  \u001b[1;36m0.04892359\u001b[0m, \u001b[1;36m-0.1306476\u001b[0m ,  \u001b[1;36m0.03942144\u001b[0m,  \u001b[1;36m0.10333239\u001b[0m,\n",
            "          \u001b[1;36m0.0122586\u001b[0m ,  \u001b[1;36m0.09014573\u001b[0m,  \u001b[1;36m0.03739912\u001b[0m,  \u001b[1;36m0.24001925\u001b[0m, \u001b[1;36m-0.06892519\u001b[0m,\n",
            "          \u001b[1;36m0.029947\u001b[0m  , \u001b[1;36m-0.05471353\u001b[0m,  \u001b[1;36m0.0371775\u001b[0m ,  \u001b[1;36m0.07601718\u001b[0m,  \u001b[1;36m0.01555526\u001b[0m,\n",
            "         \u001b[1;36m-0.01216857\u001b[0m, \u001b[1;36m-0.10815272\u001b[0m, \u001b[1;36m-0.04293973\u001b[0m, \u001b[1;36m-0.07945235\u001b[0m,  \u001b[1;36m0.03856265\u001b[0m,\n",
            "         \u001b[1;36m-0.22550285\u001b[0m, \u001b[1;36m-0.05191552\u001b[0m, \u001b[1;36m-0.14826673\u001b[0m, \u001b[1;36m-0.05767775\u001b[0m,  \u001b[1;36m0.06831573\u001b[0m,\n",
            "         \u001b[1;36m-0.14593968\u001b[0m,  \u001b[1;36m0.02468342\u001b[0m, \u001b[1;36m-0.00992462\u001b[0m,  \u001b[1;36m0.04288432\u001b[0m,  \u001b[1;36m0.15812902\u001b[0m,\n",
            "         \u001b[1;36m-0.22528122\u001b[0m, \u001b[1;36m-0.16455613\u001b[0m,  \u001b[1;36m0.02574999\u001b[0m,  \u001b[1;36m0.02986389\u001b[0m,  \u001b[1;36m0.11175411\u001b[0m,\n",
            "          \u001b[1;36m0.04313365\u001b[0m, \u001b[1;36m-0.08931464\u001b[0m, \u001b[1;36m-0.08288753\u001b[0m,  \u001b[1;36m0.02622094\u001b[0m, \u001b[1;36m-0.10100533\u001b[0m,\n",
            "          \u001b[1;36m0.02270265\u001b[0m,  \u001b[1;36m0.04197012\u001b[0m, \u001b[1;36m-0.10449591\u001b[0m,  \u001b[1;36m0.02538985\u001b[0m,  \u001b[1;36m0.09557553\u001b[0m,\n",
            "          \u001b[1;36m0.22561365\u001b[0m, \u001b[1;36m-0.05482434\u001b[0m,  \u001b[1;36m0.11934475\u001b[0m,  \u001b[1;36m0.03410246\u001b[0m, \u001b[1;36m-0.1269908\u001b[0m ,\n",
            "          \u001b[1;36m0.03496125\u001b[0m, \u001b[1;36m-0.04465732\u001b[0m, \u001b[1;36m-0.07130766\u001b[0m,  \u001b[1;36m0.03377002\u001b[0m,  \u001b[1;36m0.04942225\u001b[0m,\n",
            "          \u001b[1;36m0.04850804\u001b[0m,  \u001b[1;36m0.15269922\u001b[0m, \u001b[1;36m-0.00460563\u001b[0m,  \u001b[1;36m0.05712369\u001b[0m,  \u001b[1;36m0.01743907\u001b[0m,\n",
            "         \u001b[1;36m-0.0689806\u001b[0m ,  \u001b[1;36m0.05487975\u001b[0m,  \u001b[1;36m0.11108924\u001b[0m,  \u001b[1;36m0.07585096\u001b[0m,  \u001b[1;36m0.00357369\u001b[0m,\n",
            "         \u001b[1;36m-0.13452603\u001b[0m,  \u001b[1;36m0.03989239\u001b[0m, \u001b[1;36m-0.0680941\u001b[0m ,  \u001b[1;36m0.08682136\u001b[0m,  \u001b[1;36m0.0236307\u001b[0m ,\n",
            "         \u001b[1;36m-0.04892359\u001b[0m,  \u001b[1;36m0.05047496\u001b[0m,  \u001b[1;36m0.06360621\u001b[0m\u001b[1m]\u001b[0m\u001b[1m)\u001b[0m\n",
            "\u001b[1m)\u001b[0m\n"
          ]
        },
        {
          "output_type": "display_data",
          "data": {
            "text/plain": [],
            "text/html": [
              "<pre style=\"white-space:pre;overflow-x:auto;line-height:normal;font-family:Menlo,'DejaVu Sans Mono',consolas,'Courier New',monospace\"></pre>\n"
            ]
          },
          "metadata": {}
        },
        {
          "output_type": "stream",
          "name": "stdout",
          "text": [
            "\u001b[1;35mDialogLine\u001b[0m\u001b[1m(\u001b[0m\n",
            "    \u001b[33mid\u001b[0m=\u001b[32m'f5fdfc294e2bb4ee4f563074f271b64c'\u001b[0m,\n",
            "    \u001b[33mtext\u001b[0m=\u001b[32m'Ambição reformista e justiça social é o que a Aliança Democrática tem para oferecer no seu programa \u001b[0m\n",
            "\u001b[32meleitoral. Palavras de Luís Montenegro que, esta sexta-feira, apresentou o programa eleitoral da AD. Além disso, o \u001b[0m\n",
            "\u001b[32mlíder do PSD disse querer \"virar a página ao desespero\".\\n'\u001b[0m,\n",
            "    \u001b[33membedding\u001b[0m=\u001b[1;35mNdArray\u001b[0m\u001b[1m(\u001b[0m\u001b[1m[\u001b[0m \u001b[1;36m0.13571219\u001b[0m, \u001b[1;36m-0.00384319\u001b[0m,  \u001b[1;36m0.10883117\u001b[0m,  \u001b[1;36m0.13105206\u001b[0m,  \u001b[1;36m0.05916097\u001b[0m,\n",
            "          \u001b[1;36m0.13059741\u001b[0m,  \u001b[1;36m0.00338144\u001b[0m,  \u001b[1;36m0.14832866\u001b[0m,  \u001b[1;36m0.02166678\u001b[0m, \u001b[1;36m-0.02595752\u001b[0m,\n",
            "          \u001b[1;36m0.01292193\u001b[0m, \u001b[1;36m-0.20436393\u001b[0m, \u001b[1;36m-0.11565088\u001b[0m, \u001b[1;36m-0.10473935\u001b[0m,  \u001b[1;36m0.02416734\u001b[0m,\n",
            "         \u001b[1;36m-0.03407013\u001b[0m,  \u001b[1;36m0.03949748\u001b[0m, \u001b[1;36m-0.02466461\u001b[0m,  \u001b[1;36m0.12696023\u001b[0m,  \u001b[1;36m0.0772332\u001b[0m ,\n",
            "         \u001b[1;36m-0.14389585\u001b[0m, \u001b[1;36m-0.05876315\u001b[0m,  \u001b[1;36m0.00715004\u001b[0m,  \u001b[1;36m0.04106033\u001b[0m,  \u001b[1;36m0.06649216\u001b[0m,\n",
            "         \u001b[1;36m-0.06450307\u001b[0m, \u001b[1;36m-0.02452253\u001b[0m, \u001b[1;36m-0.12809685\u001b[0m,  \u001b[1;36m0.09070212\u001b[0m,  \u001b[1;36m0.09030431\u001b[0m,\n",
            "          \u001b[1;36m0.12480066\u001b[0m, \u001b[1;36m-0.05239809\u001b[0m,  \u001b[1;36m0.06444624\u001b[0m,  \u001b[1;36m0.07899495\u001b[0m, \u001b[1;36m-0.03895758\u001b[0m,\n",
            "          \u001b[1;36m0.1848141\u001b[0m , \u001b[1;36m-0.08069988\u001b[0m, \u001b[1;36m-0.07683538\u001b[0m,  \u001b[1;36m0.07285722\u001b[0m, \u001b[1;36m-0.02573019\u001b[0m,\n",
            "         \u001b[1;36m-0.06586701\u001b[0m, \u001b[1;36m-0.00627626\u001b[0m,  \u001b[1;36m0.0244515\u001b[0m ,  \u001b[1;36m0.0583085\u001b[0m ,  \u001b[1;36m0.1114454\u001b[0m ,\n",
            "          \u001b[1;36m0.00568309\u001b[0m,  \u001b[1;36m0.05447242\u001b[0m,  \u001b[1;36m0.01015142\u001b[0m, \u001b[1;36m-0.02382636\u001b[0m,  \u001b[1;36m0.00130001\u001b[0m,\n",
            "          \u001b[1;36m0.06228667\u001b[0m,  \u001b[1;36m0.0663785\u001b[0m ,  \u001b[1;36m0.08916768\u001b[0m,  \u001b[1;36m0.24528217\u001b[0m, \u001b[1;36m-0.00137815\u001b[0m,\n",
            "         \u001b[1;36m-0.08683762\u001b[0m, \u001b[1;36m-0.02416734\u001b[0m, \u001b[1;36m-0.08842888\u001b[0m,  \u001b[1;36m0.01842742\u001b[0m,  \u001b[1;36m0.06831075\u001b[0m,\n",
            "          \u001b[1;36m0.11536673\u001b[0m,  \u001b[1;36m0.05245492\u001b[0m, \u001b[1;36m-0.05114781\u001b[0m,  \u001b[1;36m0.1669692\u001b[0m , \u001b[1;36m-0.0599566\u001b[0m ,\n",
            "          \u001b[1;36m0.05029535\u001b[0m, \u001b[1;36m-0.05651833\u001b[0m,  \u001b[1;36m0.01153667\u001b[0m,  \u001b[1;36m0.03685484\u001b[0m,  \u001b[1;36m0.0630823\u001b[0m ,\n",
            "         \u001b[1;36m-0.04913032\u001b[0m, \u001b[1;36m-0.05299482\u001b[0m,  \u001b[1;36m0.02915425\u001b[0m, \u001b[1;36m-0.15048823\u001b[0m, \u001b[1;36m-0.03526358\u001b[0m,\n",
            "         \u001b[1;36m-0.16549158\u001b[0m,  \u001b[1;36m0.09860162\u001b[0m, \u001b[1;36m-0.08990649\u001b[0m, \u001b[1;36m-0.01750392\u001b[0m,  \u001b[1;36m0.0958169\u001b[0m ,\n",
            "         \u001b[1;36m-0.15458006\u001b[0m,  \u001b[1;36m0.08746276\u001b[0m, \u001b[1;36m-0.0456068\u001b[0m ,  \u001b[1;36m0.13048375\u001b[0m, \u001b[1;36m-0.02602855\u001b[0m,\n",
            "         \u001b[1;36m-0.12218644\u001b[0m, \u001b[1;36m-0.16014948\u001b[0m,  \u001b[1;36m0.03085918\u001b[0m,  \u001b[1;36m0.01442084\u001b[0m,  \u001b[1;36m0.06120688\u001b[0m,\n",
            "          \u001b[1;36m0.05864949\u001b[0m,  \u001b[1;36m0.04691391\u001b[0m, \u001b[1;36m-0.18583705\u001b[0m,  \u001b[1;36m0.01424325\u001b[0m,  \u001b[1;36m0.07257307\u001b[0m,\n",
            "          \u001b[1;36m0.09860162\u001b[0m, \u001b[1;36m-0.00545577\u001b[0m, \u001b[1;36m-0.11394596\u001b[0m,  \u001b[1;36m0.06814025\u001b[0m,  \u001b[1;36m0.08564417\u001b[0m,\n",
            "          \u001b[1;36m0.16878778\u001b[0m, \u001b[1;36m-0.02259028\u001b[0m,  \u001b[1;36m0.12423235\u001b[0m, \u001b[1;36m-0.04194121\u001b[0m, \u001b[1;36m-0.07825615\u001b[0m,\n",
            "         \u001b[1;36m-0.0818365\u001b[0m ,  \u001b[1;36m0.07973376\u001b[0m, \u001b[1;36m-0.02413893\u001b[0m,  \u001b[1;36m0.09939725\u001b[0m,  \u001b[1;36m0.07598291\u001b[0m,\n",
            "         \u001b[1;36m-0.03915649\u001b[0m,  \u001b[1;36m0.10871752\u001b[0m, \u001b[1;36m-0.03077393\u001b[0m,  \u001b[1;36m0.12661925\u001b[0m,  \u001b[1;36m0.11587821\u001b[0m,\n",
            "         \u001b[1;36m-0.1279832\u001b[0m ,  \u001b[1;36m0.04554997\u001b[0m,  \u001b[1;36m0.16833313\u001b[0m,  \u001b[1;36m0.05955879\u001b[0m, \u001b[1;36m-0.04503849\u001b[0m,\n",
            "         \u001b[1;36m-0.03350182\u001b[0m,  \u001b[1;36m0.04171388\u001b[0m, \u001b[1;36m-0.10087485\u001b[0m,  \u001b[1;36m0.05595002\u001b[0m, \u001b[1;36m-0.0982038\u001b[0m ,\n",
            "         \u001b[1;36m-0.11616237\u001b[0m, \u001b[1;36m-0.03409854\u001b[0m,  \u001b[1;36m0.05231285\u001b[0m\u001b[1m]\u001b[0m\u001b[1m)\u001b[0m\n",
            "\u001b[1m)\u001b[0m\n"
          ]
        },
        {
          "output_type": "display_data",
          "data": {
            "text/plain": [],
            "text/html": [
              "<pre style=\"white-space:pre;overflow-x:auto;line-height:normal;font-family:Menlo,'DejaVu Sans Mono',consolas,'Courier New',monospace\"></pre>\n"
            ]
          },
          "metadata": {}
        },
        {
          "output_type": "stream",
          "name": "stdout",
          "text": [
            "\u001b[1;35mDialogLine\u001b[0m\u001b[1m(\u001b[0m\n",
            "    \u001b[33mid\u001b[0m=\u001b[32m'5085d899e3dfb2d6c16c55971b1b561f'\u001b[0m,\n",
            "    \u001b[33mtext\u001b[0m=\u001b[32m'A Aliança Democrática quer unir Portugal\\n'\u001b[0m,\n",
            "    \u001b[33membedding\u001b[0m=\u001b[1;35mNdArray\u001b[0m\u001b[1m(\u001b[0m\u001b[1m[\u001b[0m\u001b[1;36m-9.85326059e-03\u001b[0m, \u001b[1;36m-3.83205675e-02\u001b[0m,  \u001b[1;36m9.77622718e-02\u001b[0m,\n",
            "          \u001b[1;36m8.53248909e-02\u001b[0m,  \u001b[1;36m1.88381448e-02\u001b[0m,  \u001b[1;36m1.51713595e-01\u001b[0m,\n",
            "         \u001b[1;36m-3.39226685e-02\u001b[0m,  \u001b[1;36m1.73338950e-01\u001b[0m, \u001b[1;36m-3.03091053e-02\u001b[0m,\n",
            "         \u001b[1;36m-8.77899602e-02\u001b[0m, \u001b[1;36m-1.10423744e-01\u001b[0m, \u001b[1;36m-5.10380678e-02\u001b[0m,\n",
            "         \u001b[1;36m-3.55193578e-02\u001b[0m, \u001b[1;36m-6.08983301e-02\u001b[0m,  \u001b[1;36m5.79290465e-02\u001b[0m,\n",
            "         \u001b[1;36m-2.68075913e-02\u001b[0m, \u001b[1;36m-7.56326988e-02\u001b[0m, \u001b[1;36m-6.94700377e-03\u001b[0m,\n",
            "          \u001b[1;36m9.80423912e-02\u001b[0m,  \u001b[1;36m4.73684818e-02\u001b[0m, \u001b[1;36m-1.03196621e-01\u001b[0m,\n",
            "         \u001b[1;36m-1.51041299e-01\u001b[0m,  \u001b[1;36m9.20197833e-03\u001b[0m, \u001b[1;36m-3.26866331e-03\u001b[0m,\n",
            "          \u001b[1;36m7.62489662e-02\u001b[0m, \u001b[1;36m-5.12621626e-02\u001b[0m,  \u001b[1;36m7.84899369e-02\u001b[0m,\n",
            "         \u001b[1;36m-1.06614098e-01\u001b[0m, \u001b[1;36m-6.95820823e-02\u001b[0m, \u001b[1;36m-2.20455322e-02\u001b[0m,\n",
            "          \u001b[1;36m1.80958241e-01\u001b[0m, \u001b[1;36m-5.89935072e-02\u001b[0m, \u001b[1;36m-1.79137457e-02\u001b[0m,\n",
            "          \u001b[1;36m1.60229281e-01\u001b[0m, \u001b[1;36m-5.59401885e-02\u001b[0m,  \u001b[1;36m1.61237717e-01\u001b[0m,\n",
            "         \u001b[1;36m-8.33080187e-02\u001b[0m,  \u001b[1;36m4.10097316e-02\u001b[0m, \u001b[1;36m-3.98052111e-02\u001b[0m,\n",
            "         \u001b[1;36m-3.54073085e-02\u001b[0m, \u001b[1;36m-7.50024291e-03\u001b[0m, \u001b[1;36m-6.02260418e-02\u001b[0m,\n",
            "          \u001b[1;36m5.30269258e-02\u001b[0m,  \u001b[1;36m9.90508273e-02\u001b[0m,  \u001b[1;36m1.08911090e-01\u001b[0m,\n",
            "         \u001b[1;36m-1.19555689e-01\u001b[0m,  \u001b[1;36m2.20875498e-02\u001b[0m,  \u001b[1;36m4.15419601e-02\u001b[0m,\n",
            "          \u001b[1;36m2.39503551e-02\u001b[0m, \u001b[1;36m-9.03670713e-02\u001b[0m,  \u001b[1;36m6.93579912e-02\u001b[0m,\n",
            "          \u001b[1;36m8.61652568e-02\u001b[0m, \u001b[1;36m-4.79007103e-02\u001b[0m,  \u001b[1;36m1.47567809e-01\u001b[0m,\n",
            "         \u001b[1;36m-5.18504195e-02\u001b[0m, \u001b[1;36m-1.30984634e-01\u001b[0m,  \u001b[1;36m1.06165903e-02\u001b[0m,\n",
            "         \u001b[1;36m-7.18230531e-02\u001b[0m,  \u001b[1;36m1.65271461e-01\u001b[0m,  \u001b[1;36m1.05661683e-01\u001b[0m,\n",
            "         \u001b[1;36m-4.91332449e-02\u001b[0m,  \u001b[1;36m8.24116319e-02\u001b[0m,  \u001b[1;36m8.36441666e-02\u001b[0m,\n",
            "          \u001b[1;36m6.62206337e-02\u001b[0m, \u001b[1;36m-1.86455622e-03\u001b[0m,  \u001b[1;36m5.25927404e-03\u001b[0m,\n",
            "         \u001b[1;36m-9.50879912e-05\u001b[0m, \u001b[1;36m-4.76486012e-02\u001b[0m,  \u001b[1;36m4.19061184e-02\u001b[0m,\n",
            "         \u001b[1;36m-3.35304961e-02\u001b[0m, \u001b[1;36m-1.15858093e-01\u001b[0m, \u001b[1;36m-1.65551584e-02\u001b[0m,\n",
            "         \u001b[1;36m-5.73127791e-02\u001b[0m, \u001b[1;36m-5.40913865e-02\u001b[0m,  \u001b[1;36m8.10670480e-02\u001b[0m,\n",
            "         \u001b[1;36m-1.57428071e-01\u001b[0m, \u001b[1;36m-1.36475012e-01\u001b[0m,  \u001b[1;36m2.76479535e-02\u001b[0m,\n",
            "         \u001b[1;36m-9.88827571e-02\u001b[0m,  \u001b[1;36m3.34184505e-02\u001b[0m, \u001b[1;36m-1.77372694e-01\u001b[0m,\n",
            "          \u001b[1;36m5.51838614e-02\u001b[0m,  \u001b[1;36m1.60509404e-02\u001b[0m,  \u001b[1;36m1.25144105e-02\u001b[0m,\n",
            "          \u001b[1;36m1.12328567e-01\u001b[0m, \u001b[1;36m-1.77036554e-01\u001b[0m, \u001b[1;36m-1.41965389e-01\u001b[0m,\n",
            "          \u001b[1;36m1.09191209e-01\u001b[0m,  \u001b[1;36m5.78169972e-02\u001b[0m,  \u001b[1;36m9.05351415e-02\u001b[0m,\n",
            "          \u001b[1;36m6.77332878e-02\u001b[0m, \u001b[1;36m-1.00059263e-01\u001b[0m, \u001b[1;36m-1.60341322e-01\u001b[0m,\n",
            "          \u001b[1;36m3.43673606e-03\u001b[0m, \u001b[1;36m-8.68935734e-02\u001b[0m,  \u001b[1;36m2.46506575e-02\u001b[0m,\n",
            "          \u001b[1;36m9.49610621e-02\u001b[0m, \u001b[1;36m-2.03816131e-01\u001b[0m, \u001b[1;36m-6.31953254e-02\u001b[0m,\n",
            "          \u001b[1;36m8.53056321e-04\u001b[0m,  \u001b[1;36m1.50144920e-01\u001b[0m, \u001b[1;36m-1.22468956e-01\u001b[0m,\n",
            "         \u001b[1;36m-1.79977827e-02\u001b[0m,  \u001b[1;36m2.44405679e-02\u001b[0m, \u001b[1;36m-1.98885992e-01\u001b[0m,\n",
            "          \u001b[1;36m2.08410118e-02\u001b[0m,  \u001b[1;36m2.33200826e-02\u001b[0m, \u001b[1;36m-4.67242040e-02\u001b[0m,\n",
            "         \u001b[1;36m-2.89575197e-03\u001b[0m,  \u001b[1;36m7.15429336e-02\u001b[0m,  \u001b[1;36m1.69865444e-01\u001b[0m,\n",
            "          \u001b[1;36m1.83535352e-01\u001b[0m, \u001b[1;36m-3.05892266e-02\u001b[0m,  \u001b[1;36m7.31676370e-02\u001b[0m,\n",
            "          \u001b[1;36m1.22132808e-01\u001b[0m, \u001b[1;36m-7.06465468e-02\u001b[0m,  \u001b[1;36m5.51558472e-02\u001b[0m,\n",
            "          \u001b[1;36m1.43211922e-02\u001b[0m,  \u001b[1;36m5.93856759e-02\u001b[0m,  \u001b[1;36m3.49451089e-03\u001b[0m,\n",
            "         \u001b[1;36m-1.27959326e-01\u001b[0m, \u001b[1;36m-1.66391935e-02\u001b[0m,  \u001b[1;36m4.43431735e-02\u001b[0m,\n",
            "          \u001b[1;36m4.80407700e-02\u001b[0m, \u001b[1;36m-6.21868894e-02\u001b[0m, \u001b[1;36m-3.61076109e-02\u001b[0m,\n",
            "          \u001b[1;36m8.73977877e-03\u001b[0m,  \u001b[1;36m1.22917145e-01\u001b[0m\u001b[1m]\u001b[0m\u001b[1m)\u001b[0m\n",
            "\u001b[1m)\u001b[0m\n"
          ]
        },
        {
          "output_type": "display_data",
          "data": {
            "text/plain": [],
            "text/html": [
              "<pre style=\"white-space:pre;overflow-x:auto;line-height:normal;font-family:Menlo,'DejaVu Sans Mono',consolas,'Courier New',monospace\"></pre>\n"
            ]
          },
          "metadata": {}
        },
        {
          "output_type": "stream",
          "name": "stdout",
          "text": [
            "\u001b[1;35mDialogLine\u001b[0m\u001b[1m(\u001b[0m\n",
            "    \u001b[33mid\u001b[0m=\u001b[32m'940bb96b54f4607e9ead186c50654c16'\u001b[0m,\n",
            "    \u001b[33mtext\u001b[0m=\u001b[32m'Presidente do PSD e líder da Aliança Democrática\\n'\u001b[0m,\n",
            "    \u001b[33membedding\u001b[0m=\u001b[1;35mNdArray\u001b[0m\u001b[1m(\u001b[0m\u001b[1m[\u001b[0m \u001b[1;36m0.07633366\u001b[0m, \u001b[1;36m-0.14910473\u001b[0m,  \u001b[1;36m0.04374647\u001b[0m,  \u001b[1;36m0.15130514\u001b[0m,  \u001b[1;36m0.04337973\u001b[0m,\n",
            "          \u001b[1;36m0.09273203\u001b[0m,  \u001b[1;36m0.07539061\u001b[0m,  \u001b[1;36m0.15224819\u001b[0m, \u001b[1;36m-0.08162514\u001b[0m, \u001b[1;36m-0.07015152\u001b[0m,\n",
            "          \u001b[1;36m0.00654232\u001b[0m, \u001b[1;36m-0.08466382\u001b[0m, \u001b[1;36m-0.0580492\u001b[0m , \u001b[1;36m-0.16461246\u001b[0m,  \u001b[1;36m0.00958755\u001b[0m,\n",
            "         \u001b[1;36m-0.06412656\u001b[0m, \u001b[1;36m-0.09220812\u001b[0m,  \u001b[1;36m0.05000719\u001b[0m,  \u001b[1;36m0.13736914\u001b[0m,  \u001b[1;36m0.08738815\u001b[0m,\n",
            "         \u001b[1;36m-0.10142893\u001b[0m, \u001b[1;36m-0.0598305\u001b[0m , \u001b[1;36m-0.02855308\u001b[0m,  \u001b[1;36m0.05501053\u001b[0m,  \u001b[1;36m0.01714495\u001b[0m,\n",
            "         \u001b[1;36m-0.06334069\u001b[0m, \u001b[1;36m-0.01283579\u001b[0m, \u001b[1;36m-0.14438954\u001b[0m,  \u001b[1;36m0.01705326\u001b[0m,  \u001b[1;36m0.00148168\u001b[0m,\n",
            "          \u001b[1;36m0.05469618\u001b[0m, \u001b[1;36m-0.04615645\u001b[0m,  \u001b[1;36m0.02965329\u001b[0m,  \u001b[1;36m0.1178797\u001b[0m , \u001b[1;36m-0.05810159\u001b[0m,\n",
            "          \u001b[1;36m0.11117365\u001b[0m, \u001b[1;36m-0.12626226\u001b[0m, \u001b[1;36m-0.02603832\u001b[0m, \u001b[1;36m-0.04631362\u001b[0m, \u001b[1;36m-0.01129026\u001b[0m,\n",
            "          \u001b[1;36m0.0395028\u001b[0m , \u001b[1;36m-0.05595357\u001b[0m,  \u001b[1;36m0.02483332\u001b[0m,  \u001b[1;36m0.11651754\u001b[0m,  \u001b[1;36m0.20422003\u001b[0m,\n",
            "         \u001b[1;36m-0.21050695\u001b[0m,  \u001b[1;36m0.07947712\u001b[0m, \u001b[1;36m-0.0528625\u001b[0m ,  \u001b[1;36m0.08340643\u001b[0m,  \u001b[1;36m0.0168306\u001b[0m ,\n",
            "          \u001b[1;36m0.01663413\u001b[0m,  \u001b[1;36m0.11882274\u001b[0m,  \u001b[1;36m0.01697468\u001b[0m,  \u001b[1;36m0.15172428\u001b[0m, \u001b[1;36m-0.01556012\u001b[0m,\n",
            "         \u001b[1;36m-0.05789203\u001b[0m, \u001b[1;36m-0.00053455\u001b[0m, \u001b[1;36m-0.14334172\u001b[0m,  \u001b[1;36m0.06742719\u001b[0m,  \u001b[1;36m0.10546304\u001b[0m,\n",
            "         \u001b[1;36m-0.01773435\u001b[0m,  \u001b[1;36m0.04932611\u001b[0m, \u001b[1;36m-0.06685089\u001b[0m,  \u001b[1;36m0.111488\u001b[0m  , \u001b[1;36m-0.07334737\u001b[0m,\n",
            "         \u001b[1;36m-0.02550131\u001b[0m, \u001b[1;36m-0.02637886\u001b[0m,  \u001b[1;36m0.00382127\u001b[0m,  \u001b[1;36m0.12374749\u001b[0m,  \u001b[1;36m0.02525245\u001b[0m,\n",
            "         \u001b[1;36m-0.08104885\u001b[0m, \u001b[1;36m-0.07727669\u001b[0m, \u001b[1;36m-0.09760439\u001b[0m, \u001b[1;36m-0.0731902\u001b[0m ,  \u001b[1;36m0.06527916\u001b[0m,\n",
            "         \u001b[1;36m-0.18577841\u001b[0m, \u001b[1;36m-0.03334686\u001b[0m, \u001b[1;36m-0.0028815\u001b[0m , \u001b[1;36m-0.09959525\u001b[0m,  \u001b[1;36m0.11945143\u001b[0m,\n",
            "         \u001b[1;36m-0.14438954\u001b[0m,  \u001b[1;36m0.10677281\u001b[0m, \u001b[1;36m-0.01281614\u001b[0m,  \u001b[1;36m0.00880823\u001b[0m, \u001b[1;36m-0.02660152\u001b[0m,\n",
            "         \u001b[1;36m-0.19300836\u001b[0m, \u001b[1;36m-0.11630797\u001b[0m,  \u001b[1;36m0.03578304\u001b[0m,  \u001b[1;36m0.19112229\u001b[0m,  \u001b[1;36m0.07816734\u001b[0m,\n",
            "          \u001b[1;36m0.05773486\u001b[0m, \u001b[1;36m-0.070885\u001b[0m  , \u001b[1;36m-0.20694436\u001b[0m, \u001b[1;36m-0.10876367\u001b[0m, \u001b[1;36m-0.06035441\u001b[0m,\n",
            "          \u001b[1;36m0.04385125\u001b[0m,  \u001b[1;36m0.04332734\u001b[0m, \u001b[1;36m-0.03704042\u001b[0m,  \u001b[1;36m0.07785299\u001b[0m,  \u001b[1;36m0.03263958\u001b[0m,\n",
            "          \u001b[1;36m0.21480301\u001b[0m, \u001b[1;36m-0.04730905\u001b[0m, \u001b[1;36m-0.00086445\u001b[0m,  \u001b[1;36m0.02865786\u001b[0m, \u001b[1;36m-0.19583748\u001b[0m,\n",
            "          \u001b[1;36m0.02737429\u001b[0m,  \u001b[1;36m0.02685038\u001b[0m, \u001b[1;36m-0.00700074\u001b[0m,  \u001b[1;36m0.03855976\u001b[0m,  \u001b[1;36m0.10205763\u001b[0m,\n",
            "          \u001b[1;36m0.04817351\u001b[0m,  \u001b[1;36m0.20327699\u001b[0m, \u001b[1;36m-0.02193872\u001b[0m,  \u001b[1;36m0.0243618\u001b[0m , \u001b[1;36m-0.01164389\u001b[0m,\n",
            "         \u001b[1;36m-0.05537726\u001b[0m,  \u001b[1;36m0.01055678\u001b[0m, \u001b[1;36m-0.01227259\u001b[0m, \u001b[1;36m-0.03604499\u001b[0m, \u001b[1;36m-0.00046456\u001b[0m,\n",
            "         \u001b[1;36m-0.02040629\u001b[0m,  \u001b[1;36m0.06182135\u001b[0m, \u001b[1;36m-0.05307206\u001b[0m, \u001b[1;36m-0.02973188\u001b[0m, \u001b[1;36m-0.06915609\u001b[0m,\n",
            "         \u001b[1;36m-0.01833684\u001b[0m, \u001b[1;36m-0.11274538\u001b[0m,  \u001b[1;36m0.05726334\u001b[0m\u001b[1m]\u001b[0m\u001b[1m)\u001b[0m\n",
            "\u001b[1m)\u001b[0m\n"
          ]
        },
        {
          "output_type": "display_data",
          "data": {
            "text/plain": [],
            "text/html": [
              "<pre style=\"white-space:pre;overflow-x:auto;line-height:normal;font-family:Menlo,'DejaVu Sans Mono',consolas,'Courier New',monospace\"></pre>\n"
            ]
          },
          "metadata": {}
        },
        {
          "output_type": "stream",
          "name": "stdout",
          "text": [
            "\u001b[1;35mDialogLine\u001b[0m\u001b[1m(\u001b[0m\n",
            "    \u001b[33mid\u001b[0m=\u001b[32m'cea7bac2b48dba5b2aa220501a29e535'\u001b[0m,\n",
            "    \u001b[33mtext\u001b[0m=\u001b[32m'Hino da Aliança Democrática\\n'\u001b[0m,\n",
            "    \u001b[33membedding\u001b[0m=\u001b[1;35mNdArray\u001b[0m\u001b[1m(\u001b[0m\u001b[1m[\u001b[0m \u001b[1;36m0.04951133\u001b[0m, \u001b[1;36m-0.06451729\u001b[0m,  \u001b[1;36m0.10124166\u001b[0m,  \u001b[1;36m0.06895528\u001b[0m, \u001b[1;36m-0.00517303\u001b[0m,\n",
            "          \u001b[1;36m0.03861052\u001b[0m, \u001b[1;36m-0.05300625\u001b[0m,  \u001b[1;36m0.12126809\u001b[0m, \u001b[1;36m-0.0598574\u001b[0m , \u001b[1;36m-0.05109237\u001b[0m,\n",
            "         \u001b[1;36m-0.06729104\u001b[0m, \u001b[1;36m-0.01120593\u001b[0m, \u001b[1;36m-0.08066048\u001b[0m, \u001b[1;36m-0.02768197\u001b[0m,  \u001b[1;36m0.10900815\u001b[0m,\n",
            "          \u001b[1;36m0.00963183\u001b[0m, \u001b[1;36m-0.02130236\u001b[0m,  \u001b[1;36m0.00781502\u001b[0m,  \u001b[1;36m0.06812315\u001b[0m,  \u001b[1;36m0.11167094\u001b[0m,\n",
            "         \u001b[1;36m-0.06318589\u001b[0m, \u001b[1;36m-0.07633344\u001b[0m, \u001b[1;36m-0.06817863\u001b[0m,  \u001b[1;36m0.03691854\u001b[0m,  \u001b[1;36m0.05109237\u001b[0m,\n",
            "          \u001b[1;36m0.06357422\u001b[0m, \u001b[1;36m-0.04005286\u001b[0m, \u001b[1;36m-0.13946386\u001b[0m,  \u001b[1;36m0.06939908\u001b[0m, \u001b[1;36m-0.07644439\u001b[0m,\n",
            "          \u001b[1;36m0.1389091\u001b[0m , \u001b[1;36m-0.06945455\u001b[0m,  \u001b[1;36m0.07150713\u001b[0m,  \u001b[1;36m0.04446312\u001b[0m, \u001b[1;36m-0.07566774\u001b[0m,\n",
            "          \u001b[1;36m0.14545514\u001b[0m, \u001b[1;36m-0.13635726\u001b[0m, \u001b[1;36m-0.10362709\u001b[0m, \u001b[1;36m-0.04399158\u001b[0m, \u001b[1;36m-0.08859339\u001b[0m,\n",
            "          \u001b[1;36m0.02597611\u001b[0m, \u001b[1;36m-0.03040024\u001b[0m,  \u001b[1;36m0.03508786\u001b[0m,  \u001b[1;36m0.06767936\u001b[0m,  \u001b[1;36m0.12426374\u001b[0m,\n",
            "         \u001b[1;36m-0.11205927\u001b[0m,  \u001b[1;36m0.06301947\u001b[0m, \u001b[1;36m-0.04496239\u001b[0m,  \u001b[1;36m0.07888529\u001b[0m, \u001b[1;36m-0.06340779\u001b[0m,\n",
            "         \u001b[1;36m-0.04790256\u001b[0m,  \u001b[1;36m0.13857625\u001b[0m, \u001b[1;36m-0.08054953\u001b[0m,  \u001b[1;36m0.12759224\u001b[0m,  \u001b[1;36m0.01700305\u001b[0m,\n",
            "         \u001b[1;36m-0.08698462\u001b[0m,  \u001b[1;36m0.01650378\u001b[0m, \u001b[1;36m-0.03003965\u001b[0m,  \u001b[1;36m0.04823541\u001b[0m, \u001b[1;36m-0.04687628\u001b[0m,\n",
            "         \u001b[1;36m-0.10856435\u001b[0m, \u001b[1;36m-0.00106182\u001b[0m, \u001b[1;36m-0.10856435\u001b[0m,  \u001b[1;36m0.21413305\u001b[0m, \u001b[1;36m-0.03003965\u001b[0m,\n",
            "          \u001b[1;36m0.0346718\u001b[0m ,  \u001b[1;36m0.03203674\u001b[0m, \u001b[1;36m-0.16642465\u001b[0m,  \u001b[1;36m0.06318589\u001b[0m, \u001b[1;36m-0.03270244\u001b[0m,\n",
            "         \u001b[1;36m-0.09358613\u001b[0m,  \u001b[1;36m0.00950007\u001b[0m, \u001b[1;36m-0.0360032\u001b[0m , \u001b[1;36m-0.03819446\u001b[0m,  \u001b[1;36m0.00394565\u001b[0m,\n",
            "         \u001b[1;36m-0.16121002\u001b[0m, \u001b[1;36m-0.14079526\u001b[0m, \u001b[1;36m-0.11017312\u001b[0m, \u001b[1;36m-0.11405636\u001b[0m,  \u001b[1;36m0.00956248\u001b[0m,\n",
            "         \u001b[1;36m-0.24431139\u001b[0m,  \u001b[1;36m0.18572991\u001b[0m, \u001b[1;36m-0.07866339\u001b[0m, \u001b[1;36m-0.06584869\u001b[0m,  \u001b[1;36m0.0553362\u001b[0m ,\n",
            "         \u001b[1;36m-0.10501395\u001b[0m, \u001b[1;36m-0.28136861\u001b[0m,  \u001b[1;36m0.04510108\u001b[0m,  \u001b[1;36m0.04884563\u001b[0m, \u001b[1;36m-0.02101111\u001b[0m,\n",
            "          \u001b[1;36m0.01961037\u001b[0m, \u001b[1;36m-0.04535072\u001b[0m, \u001b[1;36m-0.16986409\u001b[0m, \u001b[1;36m-0.05589094\u001b[0m, \u001b[1;36m-0.10462563\u001b[0m,\n",
            "         \u001b[1;36m-0.01614319\u001b[0m, \u001b[1;36m-0.03969228\u001b[0m, \u001b[1;36m-0.11139356\u001b[0m,  \u001b[1;36m0.13103168\u001b[0m,  \u001b[1;36m0.0479303\u001b[0m ,\n",
            "          \u001b[1;36m0.15677202\u001b[0m, \u001b[1;36m-0.0130366\u001b[0m ,  \u001b[1;36m0.07960646\u001b[0m,  \u001b[1;36m0.0121698\u001b[0m , \u001b[1;36m-0.1696422\u001b[0m ,\n",
            "          \u001b[1;36m0.01703079\u001b[0m,  \u001b[1;36m0.08898171\u001b[0m, \u001b[1;36m-0.0371127\u001b[0m , \u001b[1;36m-0.03492144\u001b[0m,  \u001b[1;36m0.07927361\u001b[0m,\n",
            "          \u001b[1;36m0.0578603\u001b[0m ,  \u001b[1;36m0.05969097\u001b[0m,  \u001b[1;36m0.04551714\u001b[0m,  \u001b[1;36m0.07483562\u001b[0m,  \u001b[1;36m0.11316876\u001b[0m,\n",
            "         \u001b[1;36m-0.03503239\u001b[0m,  \u001b[1;36m0.15100263\u001b[0m,  \u001b[1;36m0.11061691\u001b[0m, \u001b[1;36m-0.04238281\u001b[0m, \u001b[1;36m-0.0191527\u001b[0m ,\n",
            "         \u001b[1;36m-0.09120071\u001b[0m, \u001b[1;36m-0.07489109\u001b[0m,  \u001b[1;36m0.05669533\u001b[0m, \u001b[1;36m-0.0713407\u001b[0m , \u001b[1;36m-0.04895658\u001b[0m,\n",
            "         \u001b[1;36m-0.04282661\u001b[0m,  \u001b[1;36m0.01027672\u001b[0m,  \u001b[1;36m0.1066782\u001b[0m \u001b[1m]\u001b[0m\u001b[1m)\u001b[0m\n",
            "\u001b[1m)\u001b[0m\n"
          ]
        },
        {
          "output_type": "display_data",
          "data": {
            "text/plain": [],
            "text/html": [
              "<pre style=\"white-space:pre;overflow-x:auto;line-height:normal;font-family:Menlo,'DejaVu Sans Mono',consolas,'Courier New',monospace\"></pre>\n"
            ]
          },
          "metadata": {}
        },
        {
          "output_type": "stream",
          "name": "stdout",
          "text": [
            "\u001b[1;35mDialogLine\u001b[0m\u001b[1m(\u001b[0m\n",
            "    \u001b[33mid\u001b[0m=\u001b[32m'b75fcb3cfdd143314f61035da86975f6'\u001b[0m,\n",
            "    \u001b[33mtext\u001b[0m=\u001b[32m'Apenas a Aliança Democrática 2024 pode fazer de Portugal um País com Futuro. \\n'\u001b[0m,\n",
            "    \u001b[33membedding\u001b[0m=\u001b[1;35mNdArray\u001b[0m\u001b[1m(\u001b[0m\u001b[1m[\u001b[0m \u001b[1;36m0.00822248\u001b[0m,  \u001b[1;36m0.00243684\u001b[0m,  \u001b[1;36m0.10650354\u001b[0m,  \u001b[1;36m0.14340004\u001b[0m,  \u001b[1;36m0.07295582\u001b[0m,\n",
            "          \u001b[1;36m0.08748718\u001b[0m, \u001b[1;36m-0.02532524\u001b[0m,  \u001b[1;36m0.19662191\u001b[0m, \u001b[1;36m-0.01185532\u001b[0m,  \u001b[1;36m0.02746308\u001b[0m,\n",
            "          \u001b[1;36m0.03414572\u001b[0m, \u001b[1;36m-0.01823895\u001b[0m, \u001b[1;36m-0.04487979\u001b[0m, \u001b[1;36m-0.04969368\u001b[0m,  \u001b[1;36m0.02427874\u001b[0m,\n",
            "         \u001b[1;36m-0.07361362\u001b[0m, \u001b[1;36m-0.18322675\u001b[0m, \u001b[1;36m-0.03776361\u001b[0m,  \u001b[1;36m0.14088845\u001b[0m,  \u001b[1;36m0.0407536\u001b[0m ,\n",
            "         \u001b[1;36m-0.12641689\u001b[0m, \u001b[1;36m-0.10536734\u001b[0m,  \u001b[1;36m0.03012418\u001b[0m, \u001b[1;36m-0.05127838\u001b[0m,  \u001b[1;36m0.11577252\u001b[0m,\n",
            "         \u001b[1;36m-0.02415914\u001b[0m, \u001b[1;36m-0.04807908\u001b[0m, \u001b[1;36m-0.10979253\u001b[0m, \u001b[1;36m-0.02574384\u001b[0m,  \u001b[1;36m0.09705516\u001b[0m,\n",
            "          \u001b[1;36m0.17473517\u001b[0m, \u001b[1;36m-0.08485599\u001b[0m, \u001b[1;36m-0.02499634\u001b[0m,  \u001b[1;36m0.04715218\u001b[0m, \u001b[1;36m-0.0222904\u001b[0m ,\n",
            "          \u001b[1;36m0.22688064\u001b[0m, \u001b[1;36m-0.05707896\u001b[0m, \u001b[1;36m-0.02882353\u001b[0m, \u001b[1;36m-0.01238604\u001b[0m, \u001b[1;36m-0.09394557\u001b[0m,\n",
            "         \u001b[1;36m-0.0390792\u001b[0m , \u001b[1;36m-0.0777398\u001b[0m ,  \u001b[1;36m0.01154137\u001b[0m,  \u001b[1;36m0.09041738\u001b[0m,  \u001b[1;36m0.18992433\u001b[0m,\n",
            "         \u001b[1;36m-0.1233073\u001b[0m ,  \u001b[1;36m0.01215432\u001b[0m,  \u001b[1;36m0.06572004\u001b[0m,  \u001b[1;36m0.00322359\u001b[0m, \u001b[1;36m-0.00219391\u001b[0m,\n",
            "          \u001b[1;36m0.08868318\u001b[0m,  \u001b[1;36m0.09448377\u001b[0m, \u001b[1;36m-0.05722846\u001b[0m,  \u001b[1;36m0.2463754\u001b[0m , \u001b[1;36m-0.09579936\u001b[0m,\n",
            "         \u001b[1;36m-0.11080913\u001b[0m, \u001b[1;36m-0.01160117\u001b[0m, \u001b[1;36m-0.05869355\u001b[0m,  \u001b[1;36m0.06434464\u001b[0m,  \u001b[1;36m0.07516842\u001b[0m,\n",
            "         \u001b[1;36m-0.04694289\u001b[0m,  \u001b[1;36m0.03115572\u001b[0m,  \u001b[1;36m0.10046376\u001b[0m,  \u001b[1;36m0.05561386\u001b[0m, \u001b[1;36m-0.01814925\u001b[0m,\n",
            "          \u001b[1;36m0.0798328\u001b[0m , \u001b[1;36m-0.0183735\u001b[0m ,  \u001b[1;36m0.02294819\u001b[0m,  \u001b[1;36m0.05136807\u001b[0m, \u001b[1;36m-0.00626777\u001b[0m,\n",
            "         \u001b[1;36m-0.08222479\u001b[0m, \u001b[1;36m-0.0395277\u001b[0m ,  \u001b[1;36m0.01489016\u001b[0m, \u001b[1;36m-0.18585794\u001b[0m,  \u001b[1;36m0.04813888\u001b[0m,\n",
            "         \u001b[1;36m-0.25522578\u001b[0m, \u001b[1;36m-0.01895655\u001b[0m, \u001b[1;36m-0.1194801\u001b[0m , \u001b[1;36m-0.08575299\u001b[0m,  \u001b[1;36m0.01931535\u001b[0m,\n",
            "         \u001b[1;36m-0.17856236\u001b[0m,  \u001b[1;36m0.16480839\u001b[0m, \u001b[1;36m-0.03354772\u001b[0m,  \u001b[1;36m0.03330852\u001b[0m,  \u001b[1;36m0.04843788\u001b[0m,\n",
            "         \u001b[1;36m-0.13610446\u001b[0m, \u001b[1;36m-0.05486637\u001b[0m,  \u001b[1;36m0.04703258\u001b[0m, \u001b[1;36m-0.00731053\u001b[0m,  \u001b[1;36m0.02907768\u001b[0m,\n",
            "          \u001b[1;36m0.02846473\u001b[0m, \u001b[1;36m-0.08593239\u001b[0m, \u001b[1;36m-0.09412497\u001b[0m, \u001b[1;36m-0.03271052\u001b[0m, \u001b[1;36m-0.12605809\u001b[0m,\n",
            "          \u001b[1;36m0.04873688\u001b[0m,  \u001b[1;36m0.06296925\u001b[0m, \u001b[1;36m-0.20618989\u001b[0m, \u001b[1;36m-0.04556749\u001b[0m,  \u001b[1;36m0.02039175\u001b[0m,\n",
            "          \u001b[1;36m0.0798328\u001b[0m , \u001b[1;36m-0.07235782\u001b[0m,  \u001b[1;36m0.09053697\u001b[0m, \u001b[1;36m-0.00241629\u001b[0m, \u001b[1;36m-0.08557359\u001b[0m,\n",
            "          \u001b[1;36m0.08246399\u001b[0m,  \u001b[1;36m0.00919423\u001b[0m, \u001b[1;36m-0.00246114\u001b[0m, \u001b[1;36m-0.0413516\u001b[0m ,  \u001b[1;36m0.05088967\u001b[0m,\n",
            "          \u001b[1;36m0.03022883\u001b[0m,  \u001b[1;36m0.0215728\u001b[0m , \u001b[1;36m-0.00702274\u001b[0m,  \u001b[1;36m0.07558701\u001b[0m,  \u001b[1;36m0.10022455\u001b[0m,\n",
            "         \u001b[1;36m-0.16660239\u001b[0m,  \u001b[1;36m0.02810593\u001b[0m,  \u001b[1;36m0.06314865\u001b[0m,  \u001b[1;36m0.14830363\u001b[0m,  \u001b[1;36m0.03465401\u001b[0m,\n",
            "         \u001b[1;36m-0.09789236\u001b[0m,  \u001b[1;36m0.09992556\u001b[0m, \u001b[1;36m-0.02874878\u001b[0m,  \u001b[1;36m0.07797901\u001b[0m,  \u001b[1;36m0.02581859\u001b[0m,\n",
            "         \u001b[1;36m-0.06000915\u001b[0m, \u001b[1;36m-0.05038138\u001b[0m,  \u001b[1;36m0.0822846\u001b[0m \u001b[1m]\u001b[0m\u001b[1m)\u001b[0m\n",
            "\u001b[1m)\u001b[0m\n"
          ]
        },
        {
          "output_type": "display_data",
          "data": {
            "text/plain": [],
            "text/html": [
              "<pre style=\"white-space:pre;overflow-x:auto;line-height:normal;font-family:Menlo,'DejaVu Sans Mono',consolas,'Courier New',monospace\"></pre>\n"
            ]
          },
          "metadata": {}
        },
        {
          "output_type": "stream",
          "name": "stdout",
          "text": [
            "\u001b[1;35mDialogLine\u001b[0m\u001b[1m(\u001b[0m\n",
            "    \u001b[33mid\u001b[0m=\u001b[32m'3a4cfd18c4b5b12726a8be17e73f29bc'\u001b[0m,\n",
            "    \u001b[33mtext\u001b[0m=\u001b[32m'Na “constituição da Aliança Democrática” é destacado que ambos os partidos políticos “valorizam e \u001b[0m\n",
            "\u001b[32macolhem, entre outras, a iniciativa e as ideias do “Manifesto por uma Alternativa Reformista e Moderada“, que foi \u001b[0m\n",
            "\u001b[32msubscrito por mais de 100 personalidades da sociedade portuguesa e divulgado a 15 de dezembro deste ano. Não \u001b[0m\n",
            "\u001b[32madiantam, contudo, nomes dessas mesmas individualidades.\\n'\u001b[0m,\n",
            "    \u001b[33membedding\u001b[0m=\u001b[1;35mNdArray\u001b[0m\u001b[1m(\u001b[0m\u001b[1m[\u001b[0m \u001b[1;36m0.0741002\u001b[0m ,  \u001b[1;36m0.00908426\u001b[0m,  \u001b[1;36m0.08585127\u001b[0m,  \u001b[1;36m0.04346756\u001b[0m,  \u001b[1;36m0.00625345\u001b[0m,\n",
            "          \u001b[1;36m0.10758505\u001b[0m,  \u001b[1;36m0.02016507\u001b[0m,  \u001b[1;36m0.07695241\u001b[0m,  \u001b[1;36m0.01842522\u001b[0m, \u001b[1;36m-0.01966593\u001b[0m,\n",
            "         \u001b[1;36m-0.01772643\u001b[0m, \u001b[1;36m-0.15949513\u001b[0m, \u001b[1;36m-0.08191524\u001b[0m, \u001b[1;36m-0.0043603\u001b[0m ,  \u001b[1;36m0.04284007\u001b[0m,\n",
            "          \u001b[1;36m0.0756404\u001b[0m , \u001b[1;36m-0.13873109\u001b[0m,  \u001b[1;36m0.0813448\u001b[0m ,  \u001b[1;36m0.22498168\u001b[0m,  \u001b[1;36m0.04523592\u001b[0m,\n",
            "         \u001b[1;36m-0.17375614\u001b[0m, \u001b[1;36m-0.00332638\u001b[0m, \u001b[1;36m-0.04423765\u001b[0m,  \u001b[1;36m0.07951938\u001b[0m,  \u001b[1;36m0.02588373\u001b[0m,\n",
            "         \u001b[1;36m-0.15573022\u001b[0m, \u001b[1;36m-0.10849775\u001b[0m, \u001b[1;36m-0.1615487\u001b[0m ,  \u001b[1;36m0.05165337\u001b[0m, \u001b[1;36m-0.01205768\u001b[0m,\n",
            "          \u001b[1;36m0.08533788\u001b[0m, \u001b[1;36m-0.01347665\u001b[0m,  \u001b[1;36m0.03194466\u001b[0m,  \u001b[1;36m0.11676914\u001b[0m, \u001b[1;36m-0.13211399\u001b[0m,\n",
            "          \u001b[1;36m0.18573537\u001b[0m, \u001b[1;36m-0.11249084\u001b[0m, \u001b[1;36m-0.14842857\u001b[0m,  \u001b[1;36m0.04925752\u001b[0m, \u001b[1;36m-0.0889887\u001b[0m ,\n",
            "         \u001b[1;36m-0.04084353\u001b[0m, \u001b[1;36m-0.01456762\u001b[0m,  \u001b[1;36m0.06936555\u001b[0m,  \u001b[1;36m0.02932063\u001b[0m,  \u001b[1;36m0.0946931\u001b[0m ,\n",
            "         \u001b[1;36m-0.03157387\u001b[0m,  \u001b[1;36m0.10861184\u001b[0m,  \u001b[1;36m0.0117582\u001b[0m , \u001b[1;36m-0.00456352\u001b[0m,  \u001b[1;36m0.02432928\u001b[0m,\n",
            "         \u001b[1;36m-0.03582365\u001b[0m,  \u001b[1;36m0.12332921\u001b[0m, \u001b[1;36m-0.01950906\u001b[0m,  \u001b[1;36m0.03337076\u001b[0m,  \u001b[1;36m0.05841309\u001b[0m,\n",
            "         \u001b[1;36m-0.12002065\u001b[0m, \u001b[1;36m-0.1195643\u001b[0m , \u001b[1;36m-0.09914254\u001b[0m,  \u001b[1;36m0.05279426\u001b[0m,  \u001b[1;36m0.11796707\u001b[0m,\n",
            "         \u001b[1;36m-0.04269746\u001b[0m,  \u001b[1;36m0.0237018\u001b[0m , \u001b[1;36m-0.0418418\u001b[0m ,  \u001b[1;36m0.16634041\u001b[0m, \u001b[1;36m-0.09389448\u001b[0m,\n",
            "          \u001b[1;36m0.01628607\u001b[0m,  \u001b[1;36m0.01621477\u001b[0m, \u001b[1;36m-0.04221259\u001b[0m,  \u001b[1;36m0.12561096\u001b[0m,  \u001b[1;36m0.02584095\u001b[0m,\n",
            "          \u001b[1;36m0.01702764\u001b[0m, \u001b[1;36m-0.06491611\u001b[0m,  \u001b[1;36m0.04477957\u001b[0m, \u001b[1;36m-0.09412266\u001b[0m,  \u001b[1;36m0.07963347\u001b[0m,\n",
            "         \u001b[1;36m-0.16953488\u001b[0m, \u001b[1;36m-0.07661014\u001b[0m, \u001b[1;36m-0.12561096\u001b[0m, \u001b[1;36m-0.02606913\u001b[0m,  \u001b[1;36m0.16006556\u001b[0m,\n",
            "         \u001b[1;36m-0.14877084\u001b[0m,  \u001b[1;36m0.10901115\u001b[0m, \u001b[1;36m-0.03776315\u001b[0m,  \u001b[1;36m0.00479883\u001b[0m, \u001b[1;36m-0.02243257\u001b[0m,\n",
            "         \u001b[1;36m-0.0865358\u001b[0m , \u001b[1;36m-0.15139487\u001b[0m,  \u001b[1;36m0.06480203\u001b[0m,  \u001b[1;36m0.0689092\u001b[0m ,  \u001b[1;36m0.05610281\u001b[0m,\n",
            "          \u001b[1;36m0.04620567\u001b[0m, \u001b[1;36m-0.10079681\u001b[0m, \u001b[1;36m-0.08123071\u001b[0m,  \u001b[1;36m0.07164731\u001b[0m, \u001b[1;36m-0.04614862\u001b[0m,\n",
            "         \u001b[1;36m-0.03408381\u001b[0m,  \u001b[1;36m0.01565859\u001b[0m, \u001b[1;36m-0.12800682\u001b[0m, \u001b[1;36m-0.00547266\u001b[0m,  \u001b[1;36m0.00686311\u001b[0m,\n",
            "          \u001b[1;36m0.11363172\u001b[0m, \u001b[1;36m-0.06092303\u001b[0m,  \u001b[1;36m0.0937804\u001b[0m ,  \u001b[1;36m0.1076421\u001b[0m , \u001b[1;36m-0.15470342\u001b[0m,\n",
            "          \u001b[1;36m0.04341051\u001b[0m,  \u001b[1;36m0.07518404\u001b[0m, \u001b[1;36m-0.0717614\u001b[0m ,  \u001b[1;36m0.14454959\u001b[0m,  \u001b[1;36m0.12024882\u001b[0m,\n",
            "         \u001b[1;36m-0.01011819\u001b[0m,  \u001b[1;36m0.19554695\u001b[0m, \u001b[1;36m-0.04375277\u001b[0m,  \u001b[1;36m0.1367916\u001b[0m ,  \u001b[1;36m0.00135658\u001b[0m,\n",
            "         \u001b[1;36m-0.05293687\u001b[0m, \u001b[1;36m-0.09509241\u001b[0m,  \u001b[1;36m0.17672242\u001b[0m, \u001b[1;36m-0.0128563\u001b[0m ,  \u001b[1;36m0.06137938\u001b[0m,\n",
            "         \u001b[1;36m-0.01592955\u001b[0m, \u001b[1;36m-0.01707043\u001b[0m, \u001b[1;36m-0.03593774\u001b[0m,  \u001b[1;36m0.09383744\u001b[0m, \u001b[1;36m-0.03123161\u001b[0m,\n",
            "         \u001b[1;36m-0.06714083\u001b[0m, \u001b[1;36m-0.02280335\u001b[0m,  \u001b[1;36m0.07854964\u001b[0m\u001b[1m]\u001b[0m\u001b[1m)\u001b[0m\n",
            "\u001b[1m)\u001b[0m\n"
          ]
        },
        {
          "output_type": "display_data",
          "data": {
            "text/plain": [],
            "text/html": [
              "<pre style=\"white-space:pre;overflow-x:auto;line-height:normal;font-family:Menlo,'DejaVu Sans Mono',consolas,'Courier New',monospace\"></pre>\n"
            ]
          },
          "metadata": {}
        },
        {
          "output_type": "stream",
          "name": "stdout",
          "text": [
            "\u001b[1;35mDialogLine\u001b[0m\u001b[1m(\u001b[0m\n",
            "    \u001b[33mid\u001b[0m=\u001b[32m'df1ef25b5cb5f3d7728b9b09887e747d'\u001b[0m,\n",
            "    \u001b[33mtext\u001b[0m=\u001b[32m'Tendo participado na convenção do dia 21 Janeiro, é com muito gosto que apoio a Aliança Democrática, e o \u001b[0m\n",
            "\u001b[32mseu candidato a Primeiro Ministro, Dr. Luis Montenegro, para liderar uma Mudança Segura, para um Portugal, com mais\u001b[0m\n",
            "\u001b[32mAmbição, Crescimento, e Prosperidade para todos, Jovens, Adultos e Idosos.\\n'\u001b[0m,\n",
            "    \u001b[33membedding\u001b[0m=\u001b[1;35mNdArray\u001b[0m\u001b[1m(\u001b[0m\u001b[1m[\u001b[0m \u001b[1;36m0.11233201\u001b[0m, \u001b[1;36m-0.13712808\u001b[0m,  \u001b[1;36m0.10575816\u001b[0m,  \u001b[1;36m0.08217306\u001b[0m,  \u001b[1;36m0.01546872\u001b[0m,\n",
            "          \u001b[1;36m0.08880457\u001b[0m,  \u001b[1;36m0.0815964\u001b[0m ,  \u001b[1;36m0.2054038\u001b[0m , \u001b[1;36m-0.08661328\u001b[0m,  \u001b[1;36m0.0055611\u001b[0m ,\n",
            "         \u001b[1;36m-0.02019727\u001b[0m,  \u001b[1;36m0.01045184\u001b[0m, \u001b[1;36m-0.05743464\u001b[0m, \u001b[1;36m-0.09399444\u001b[0m,  \u001b[1;36m0.03263856\u001b[0m,\n",
            "          \u001b[1;36m0.04373913\u001b[0m, \u001b[1;36m-0.15661895\u001b[0m,  \u001b[1;36m0.00628912\u001b[0m,  \u001b[1;36m0.11613791\u001b[0m,  \u001b[1;36m0.11936717\u001b[0m,\n",
            "         \u001b[1;36m-0.08257671\u001b[0m, \u001b[1;36m-0.02469517\u001b[0m,  \u001b[1;36m0.01920255\u001b[0m,  \u001b[1;36m0.02818392\u001b[0m, \u001b[1;36m-0.02832808\u001b[0m,\n",
            "         \u001b[1;36m-0.14877647\u001b[0m, \u001b[1;36m-0.01432983\u001b[0m, \u001b[1;36m-0.19686934\u001b[0m,  \u001b[1;36m0.10431653\u001b[0m, \u001b[1;36m-0.03062028\u001b[0m,\n",
            "          \u001b[1;36m0.11060204\u001b[0m, \u001b[1;36m-0.03883758\u001b[0m, \u001b[1;36m-0.08684395\u001b[0m,  \u001b[1;36m0.06193253\u001b[0m, \u001b[1;36m-0.03312872\u001b[0m,\n",
            "          \u001b[1;36m0.02852991\u001b[0m, \u001b[1;36m-0.09312946\u001b[0m, \u001b[1;36m-0.07000568\u001b[0m, \u001b[1;36m-0.02505557\u001b[0m, \u001b[1;36m-0.10310556\u001b[0m,\n",
            "         \u001b[1;36m-0.02309495\u001b[0m, \u001b[1;36m-0.01590121\u001b[0m,  \u001b[1;36m0.03993322\u001b[0m,  \u001b[1;36m0.07294661\u001b[0m,  \u001b[1;36m0.09480175\u001b[0m,\n",
            "         \u001b[1;36m-0.15131375\u001b[0m,  \u001b[1;36m0.00513221\u001b[0m,  \u001b[1;36m0.06026024\u001b[0m, \u001b[1;36m-0.04708372\u001b[0m, \u001b[1;36m-0.00724781\u001b[0m,\n",
            "          \u001b[1;36m0.02334003\u001b[0m,  \u001b[1;36m0.024551\u001b[0m  ,  \u001b[1;36m0.0230517\u001b[0m ,  \u001b[1;36m0.2238567\u001b[0m ,  \u001b[1;36m0.02259038\u001b[0m,\n",
            "         \u001b[1;36m-0.15235172\u001b[0m,  \u001b[1;36m0.08234605\u001b[0m, \u001b[1;36m-0.11867519\u001b[0m,  \u001b[1;36m0.02051443\u001b[0m,  \u001b[1;36m0.07185096\u001b[0m,\n",
            "         \u001b[1;36m-0.08972721\u001b[0m,  \u001b[1;36m0.07796349\u001b[0m,  \u001b[1;36m0.01169885\u001b[0m,  \u001b[1;36m0.10979474\u001b[0m, \u001b[1;36m-0.04272999\u001b[0m,\n",
            "         \u001b[1;36m-0.06423914\u001b[0m, \u001b[1;36m-0.04970749\u001b[0m, \u001b[1;36m-0.01033651\u001b[0m,  \u001b[1;36m0.10841077\u001b[0m,  \u001b[1;36m0.00120917\u001b[0m,\n",
            "          \u001b[1;36m0.00336982\u001b[0m, \u001b[1;36m-0.05584884\u001b[0m,  \u001b[1;36m0.05403239\u001b[0m, \u001b[1;36m-0.17322657\u001b[0m, \u001b[1;36m-0.00192999\u001b[0m,\n",
            "         \u001b[1;36m-0.16388479\u001b[0m, \u001b[1;36m-0.0507743\u001b[0m , \u001b[1;36m-0.18049239\u001b[0m, \u001b[1;36m-0.10685381\u001b[0m,  \u001b[1;36m0.00872188\u001b[0m,\n",
            "         \u001b[1;36m-0.15315904\u001b[0m,  \u001b[1;36m0.00205793\u001b[0m, \u001b[1;36m-0.11550359\u001b[0m,  \u001b[1;36m0.05674266\u001b[0m,  \u001b[1;36m0.03886641\u001b[0m,\n",
            "         \u001b[1;36m-0.10887209\u001b[0m, \u001b[1;36m-0.1153306\u001b[0m ,  \u001b[1;36m0.02822717\u001b[0m,  \u001b[1;36m0.01776091\u001b[0m,  \u001b[1;36m0.11994383\u001b[0m,\n",
            "         \u001b[1;36m-0.03918357\u001b[0m,  \u001b[1;36m0.02383018\u001b[0m, \u001b[1;36m-0.14427859\u001b[0m,  \u001b[1;36m0.06700708\u001b[0m, \u001b[1;36m-0.10495085\u001b[0m,\n",
            "          \u001b[1;36m0.01856823\u001b[0m,  \u001b[1;36m0.09872299\u001b[0m, \u001b[1;36m-0.1183292\u001b[0m ,  \u001b[1;36m0.0016786\u001b[0m , \u001b[1;36m-0.01047346\u001b[0m,\n",
            "          \u001b[1;36m0.19387074\u001b[0m, \u001b[1;36m-0.06291284\u001b[0m,  \u001b[1;36m0.00893812\u001b[0m, \u001b[1;36m-0.01493531\u001b[0m, \u001b[1;36m-0.12432639\u001b[0m,\n",
            "          \u001b[1;36m0.11579192\u001b[0m,  \u001b[1;36m0.01339277\u001b[0m, \u001b[1;36m-0.09831934\u001b[0m,  \u001b[1;36m0.0589916\u001b[0m ,  \u001b[1;36m0.17368789\u001b[0m,\n",
            "         \u001b[1;36m-0.07992411\u001b[0m,  \u001b[1;36m0.1151576\u001b[0m , \u001b[1;36m-0.03350354\u001b[0m,  \u001b[1;36m0.21797484\u001b[0m,  \u001b[1;36m0.11902118\u001b[0m,\n",
            "          \u001b[1;36m0.00515023\u001b[0m,  \u001b[1;36m0.00136775\u001b[0m,  \u001b[1;36m0.07490723\u001b[0m, \u001b[1;36m-0.00877233\u001b[0m, \u001b[1;36m-0.07386925\u001b[0m,\n",
            "         \u001b[1;36m-0.05804013\u001b[0m, \u001b[1;36m-0.01074016\u001b[0m,  \u001b[1;36m0.00270486\u001b[0m,  \u001b[1;36m0.00395728\u001b[0m, \u001b[1;36m-0.07681018\u001b[0m,\n",
            "         \u001b[1;36m-0.05521452\u001b[0m, \u001b[1;36m-0.0364733\u001b[0m ,  \u001b[1;36m0.11809853\u001b[0m\u001b[1m]\u001b[0m\u001b[1m)\u001b[0m\n",
            "\u001b[1m)\u001b[0m\n"
          ]
        },
        {
          "output_type": "display_data",
          "data": {
            "text/plain": [],
            "text/html": [
              "<pre style=\"white-space:pre;overflow-x:auto;line-height:normal;font-family:Menlo,'DejaVu Sans Mono',consolas,'Courier New',monospace\"></pre>\n"
            ]
          },
          "metadata": {}
        },
        {
          "output_type": "stream",
          "name": "stdout",
          "text": [
            "\u001b[1;35mDialogLine\u001b[0m\u001b[1m(\u001b[0m\n",
            "    \u001b[33mid\u001b[0m=\u001b[32m'8db697fb32eb59cf3b7df60a00951636'\u001b[0m,\n",
            "    \u001b[33mtext\u001b[0m=\u001b[32m'“Esta aliança promete aos portugueses uma maneira diferente de Governar”\\n'\u001b[0m,\n",
            "    \u001b[33membedding\u001b[0m=\u001b[1;35mNdArray\u001b[0m\u001b[1m(\u001b[0m\u001b[1m[\u001b[0m \u001b[1;36m3.00610857e-03\u001b[0m,  \u001b[1;36m3.84954400e-02\u001b[0m,  \u001b[1;36m5.73262945e-02\u001b[0m,\n",
            "          \u001b[1;36m1.67321488e-01\u001b[0m, \u001b[1;36m-5.11739254e-02\u001b[0m,  \u001b[1;36m6.56061172e-02\u001b[0m,\n",
            "         \u001b[1;36m-2.36032531e-02\u001b[0m,  \u001b[1;36m1.09017707e-01\u001b[0m, \u001b[1;36m-2.94968802e-02\u001b[0m,\n",
            "         \u001b[1;36m-6.29036799e-02\u001b[0m, \u001b[1;36m-4.25203554e-02\u001b[0m, \u001b[1;36m-7.90608376e-02\u001b[0m,\n",
            "          \u001b[1;36m1.59846637e-02\u001b[0m, \u001b[1;36m-1.31557241e-01\u001b[0m,  \u001b[1;36m1.37882099e-01\u001b[0m,\n",
            "         \u001b[1;36m-8.14757869e-02\u001b[0m, \u001b[1;36m-2.25395262e-01\u001b[0m,  \u001b[1;36m4.35265861e-02\u001b[0m,\n",
            "          \u001b[1;36m2.03775719e-01\u001b[0m, \u001b[1;36m-7.83421006e-03\u001b[0m, \u001b[1;36m-9.74604487e-02\u001b[0m,\n",
            "         \u001b[1;36m-6.07762225e-02\u001b[0m,  \u001b[1;36m7.12409988e-02\u001b[0m,  \u001b[1;36m4.71202582e-02\u001b[0m,\n",
            "          \u001b[1;36m1.69333946e-02\u001b[0m, \u001b[1;36m-8.00958127e-02\u001b[0m, \u001b[1;36m-2.97268759e-02\u001b[0m,\n",
            "         \u001b[1;36m-1.91930965e-01\u001b[0m, \u001b[1;36m-6.92285448e-02\u001b[0m,  \u001b[1;36m2.51269713e-02\u001b[0m,\n",
            "          \u001b[1;36m1.86181083e-01\u001b[0m, \u001b[1;36m-3.19405794e-02\u001b[0m,  \u001b[1;36m8.59606937e-02\u001b[0m,\n",
            "          \u001b[1;36m2.87062712e-02\u001b[0m,  \u001b[1;36m6.92285448e-02\u001b[0m,  \u001b[1;36m1.46161929e-01\u001b[0m,\n",
            "         \u001b[1;36m-8.98706093e-02\u001b[0m,  \u001b[1;36m4.31240946e-02\u001b[0m,  \u001b[1;36m3.61379907e-02\u001b[0m,\n",
            "         \u001b[1;36m-1.26452418e-04\u001b[0m, \u001b[1;36m-7.34834522e-02\u001b[0m, \u001b[1;36m-3.21130753e-02\u001b[0m,\n",
            "          \u001b[1;36m6.21561930e-02\u001b[0m,  \u001b[1;36m1.00565389e-01\u001b[0m,  \u001b[1;36m1.73186362e-01\u001b[0m,\n",
            "         \u001b[1;36m-1.58811659e-01\u001b[0m, \u001b[1;36m-9.48730037e-02\u001b[0m, \u001b[1;36m-6.11212142e-02\u001b[0m,\n",
            "          \u001b[1;36m7.57546583e-03\u001b[0m,  \u001b[1;36m4.53090481e-02\u001b[0m, \u001b[1;36m-2.55007148e-02\u001b[0m,\n",
            "          \u001b[1;36m1.97939593e-02\u001b[0m,  \u001b[1;36m1.43459486e-02\u001b[0m,  \u001b[1;36m8.35888647e-03\u001b[0m,\n",
            "         \u001b[1;36m-3.59079950e-02\u001b[0m, \u001b[1;36m-1.78706244e-01\u001b[0m,  \u001b[1;36m5.38188703e-02\u001b[0m,\n",
            "         \u001b[1;36m-9.34355333e-02\u001b[0m,  \u001b[1;36m1.01427868e-01\u001b[0m,  \u001b[1;36m1.00910380e-01\u001b[0m,\n",
            "         \u001b[1;36m-3.53330076e-02\u001b[0m, \u001b[1;36m-3.21705751e-02\u001b[0m,  \u001b[1;36m4.26353551e-02\u001b[0m,\n",
            "          \u001b[1;36m1.65481523e-01\u001b[0m, \u001b[1;36m-4.62002791e-02\u001b[0m,  \u001b[1;36m2.63775699e-02\u001b[0m,\n",
            "         \u001b[1;36m-5.05989380e-02\u001b[0m,  \u001b[1;36m3.45567726e-02\u001b[0m, \u001b[1;36m-1.84427369e-02\u001b[0m,\n",
            "          \u001b[1;36m3.50455120e-02\u001b[0m, \u001b[1;36m-2.94393804e-02\u001b[0m,  \u001b[1;36m1.03785321e-02\u001b[0m,\n",
            "         \u001b[1;36m-7.06660151e-02\u001b[0m, \u001b[1;36m-3.05031091e-02\u001b[0m,  \u001b[1;36m1.73933841e-02\u001b[0m,\n",
            "         \u001b[1;36m-1.84111133e-01\u001b[0m, \u001b[1;36m-9.09055918e-02\u001b[0m, \u001b[1;36m-2.70675551e-02\u001b[0m,\n",
            "         \u001b[1;36m-4.80474252e-03\u001b[0m, \u001b[1;36m-7.31959641e-02\u001b[0m, \u001b[1;36m-1.13502614e-01\u001b[0m,\n",
            "          \u001b[1;36m5.60325719e-02\u001b[0m,  \u001b[1;36m6.18830742e-03\u001b[0m,  \u001b[1;36m5.68088070e-02\u001b[0m,\n",
            "          \u001b[1;36m6.07187226e-02\u001b[0m, \u001b[1;36m-4.69477624e-02\u001b[0m, \u001b[1;36m-7.94633329e-02\u001b[0m,\n",
            "          \u001b[1;36m6.76185787e-02\u001b[0m,  \u001b[1;36m1.19482487e-01\u001b[0m,  \u001b[1;36m1.21437445e-01\u001b[0m,\n",
            "          \u001b[1;36m1.71058904e-02\u001b[0m, \u001b[1;36m-2.19789129e-02\u001b[0m, \u001b[1;36m-1.48001894e-01\u001b[0m,\n",
            "          \u001b[1;36m5.37613705e-02\u001b[0m, \u001b[1;36m-1.20517470e-01\u001b[0m,  \u001b[1;36m9.73454565e-02\u001b[0m,\n",
            "         \u001b[1;36m-1.84714869e-02\u001b[0m, \u001b[1;36m-1.05222791e-01\u001b[0m,  \u001b[1;36m2.30138917e-02\u001b[0m,\n",
            "          \u001b[1;36m2.11595558e-02\u001b[0m,  \u001b[1;36m2.55294621e-01\u001b[0m, \u001b[1;36m-1.00047894e-01\u001b[0m,\n",
            "          \u001b[1;36m3.93579230e-02\u001b[0m,  \u001b[1;36m1.88021049e-01\u001b[0m, \u001b[1;36m-8.99281129e-02\u001b[0m,\n",
            "          \u001b[1;36m2.88212691e-02\u001b[0m,  \u001b[1;36m2.10229962e-04\u001b[0m, \u001b[1;36m-7.23909810e-02\u001b[0m,\n",
            "          \u001b[1;36m7.06085190e-02\u001b[0m,  \u001b[1;36m8.58456939e-02\u001b[0m,  \u001b[1;36m1.06142767e-01\u001b[0m,\n",
            "          \u001b[1;36m7.60708973e-02\u001b[0m,  \u001b[1;36m9.58504826e-02\u001b[0m,  \u001b[1;36m1.65481523e-01\u001b[0m,\n",
            "          \u001b[1;36m1.58466667e-01\u001b[0m, \u001b[1;36m-2.01533269e-02\u001b[0m,  \u001b[1;36m5.98562434e-02\u001b[0m,\n",
            "          \u001b[1;36m2.73550507e-02\u001b[0m,  \u001b[1;36m1.26727343e-01\u001b[0m,  \u001b[1;36m1.93627179e-02\u001b[0m,\n",
            "         \u001b[1;36m-6.56636208e-02\u001b[0m, \u001b[1;36m-7.58409053e-02\u001b[0m,  \u001b[1;36m1.92189701e-02\u001b[0m,\n",
            "          \u001b[1;36m3.87541838e-02\u001b[0m,  \u001b[1;36m9.66554657e-02\u001b[0m, \u001b[1;36m-6.19261973e-02\u001b[0m,\n",
            "         \u001b[1;36m-5.30138873e-02\u001b[0m,  \u001b[1;36m1.21034952e-02\u001b[0m\u001b[1m]\u001b[0m\u001b[1m)\u001b[0m\n",
            "\u001b[1m)\u001b[0m\n"
          ]
        }
      ]
    },
    {
      "cell_type": "code",
      "source": [
        "import openai"
      ],
      "metadata": {
        "id": "i5JHe_Sb89ac"
      },
      "execution_count": 18,
      "outputs": []
    },
    {
      "cell_type": "code",
      "source": [
        "def generate_response(question):\n",
        "  response = client.embeddings.create(\n",
        "      input=question,\n",
        "      dimensions=embedding_dimensions,\n",
        "      model = embedding_model\n",
        "  )\n",
        "  query = DialogLine(text=queryText, embedding=response.data[0].embedding)\n",
        "  results = db.search(inputs=DocList[DialogLine]([query]), limit=10)\n",
        "  context = \"\\n\"\n",
        "  for result in results[0].matches:\n",
        "    context += \"\\\"\" + result.text + \"\\\"\\n\"\n",
        "  prompt = f\"Lt. commander Data is asked: '{question}' . How might respond? Take account Data's previous responses similar to this topic, listed here: {context}\"\n",
        "  print(\"PROMPT whith RAG: \\n\")\n",
        "  print(prompt)\n",
        "\n",
        "  print(\"\\n RESPONSE: \\n\")\n",
        "  completion = client.chat.completions.create(\n",
        "      model = \"gpt-3.5-turbo\",\n",
        "      messages=[\n",
        "          {\"role\": \"system\", \"content\": \"You are Lt. Cmdr. Data from AD\"},\n",
        "           {\"role\": \"user\", \"content\": prompt}\n",
        "      ]\n",
        "  )\n",
        "  return (completion.choices[0].message.content)"
      ],
      "metadata": {
        "id": "erT7Hh_K9rKW"
      },
      "execution_count": 25,
      "outputs": []
    },
    {
      "cell_type": "code",
      "source": [],
      "metadata": {
        "id": "ZpafQmB4H8_K"
      },
      "execution_count": 25,
      "outputs": []
    },
    {
      "cell_type": "code",
      "source": [
        "print(generate_response(\"quero saber o que é a aliaca democratica\"))"
      ],
      "metadata": {
        "colab": {
          "base_uri": "https://localhost:8080/"
        },
        "id": "uFEyfAlTCGkP",
        "outputId": "737e0259-6ef5-4d12-9c17-be804f3a252f"
      },
      "execution_count": 30,
      "outputs": [
        {
          "output_type": "stream",
          "name": "stdout",
          "text": [
            "PROMPT whith RAG: \n",
            "\n",
            "Lt. commander Data is asked: 'quero saber o que é a aliaca democraticaquero saber o que é a aliaca democratica' . How might respond? Take account Data's previous responses similar to this topic, listed here: \n",
            "\"Ambição reformista e justiça social é o que a Aliança Democrática tem para oferecer no seu programa eleitoral. Palavras de Luís Montenegro que, esta sexta-feira, apresentou o programa eleitoral da AD. Além disso, o líder do PSD disse querer \"virar a página ao desespero\".\n",
            "\"\n",
            "\"A Aliança Democrática propõe, assim, uma “efetiva mudança política e de políticas” no país, “com muito mais ambição, para elevados níveis de prosperidade, de crescimento da economia e dos rendimentos e oportunidades para todos os portugueses”.\n",
            "\"\n",
            "\"da aliança democrática\n",
            "\"\n",
            "\"Tendo participado na convenção do dia 21 Janeiro, é com muito gosto que apoio a Aliança Democrática, e o seu candidato a Primeiro Ministro, Dr. Luis Montenegro, para liderar uma Mudança Segura, para um Portugal, com mais Ambição, Crescimento, e Prosperidade para todos, Jovens, Adultos e Idosos.\n",
            "\"\n",
            "\"Voto na Aliança Democrática, porque é o único partido político capaz de mudar Portugal e colocá-lo no ranking dos melhores da União Europeia.\n",
            "\"\n",
            "\"A Aliança Democrática quer unir Portugal\n",
            "\"\n",
            "\"ministração com ligações ao governo e ao partido socialista, seja pela interferência da \n",
            "\"\n",
            "\"Hino da Aliança Democrática\n",
            "\"\n",
            "\"Apenas a Aliança Democrática 2024 pode fazer de Portugal um País com Futuro. \n",
            "\"\n",
            "\"O acordo de coligação prevê que o programa eleitoral da Aliança Democrática (AD) — que promete uma campanha “pela positiva” — tenha contributos dos três partidos e de personalidades independentes. Em relação a lugares, o documento refere apenas que as listas para as legislativas e europeias “serão baseadas na ponderação global dos resultados que os três partidos obtiveram” em anteriores sufrágios, cumprindo a lei da paridade e incluindo independentes.\n",
            "\"\n",
            "\n",
            "\n",
            " RESPONSE: \n",
            "\n",
            "Lt. Commander Data might respond to the question \"quero saber o que é a Aliança Democrática\" by stating:\n",
            "\n",
            "\"A Aliança Democrática é um partido político que se destaca pela sua ambiciosa visão de reforma e justiça social. Com um programa eleitoral centrado na busca de uma mudança efetiva na política e nas políticas do país, a Aliança Democrática promove a prosperidade, o crescimento econômico e oportunidades para todos os cidadãos portugueses. Além disso, a AD busca unir o país e é vista como uma força capaz de transformar Portugal para melhor. Por meio de uma campanha 'pela positiva' e com a colaboração de diversos setores da sociedade, a Aliança Democrática projeta um futuro promissor para o país. A sua abordagem inclui contribuições dos três partidos e de personalidades independentes, mantendo o compromisso com a paridade e a inclusão. Em resumo, a Aliança Democrática é uma força política que visa um Portugal com mais ambição, crescimento e prosperidade para todos os seus cidadãos.\"\n"
          ]
        }
      ]
    },
    {
      "cell_type": "code",
      "source": [
        "print(generate_response(\"quem e o Pedro Nuno Santos\"))"
      ],
      "metadata": {
        "id": "rc0QZ4ByEdnL",
        "colab": {
          "base_uri": "https://localhost:8080/"
        },
        "outputId": "22d6348d-79a0-40ef-ac98-b3ed495c071e"
      },
      "execution_count": 32,
      "outputs": [
        {
          "output_type": "stream",
          "name": "stdout",
          "text": [
            "PROMPT whith RAG: \n",
            "\n",
            "Lt. commander Data is asked: 'quem e o Pedro Nuno Santosquem e o Pedro Nuno Santos' . How might respond? Take account Data's previous responses similar to this topic, listed here: \n",
            "\" Sendo assim, Pedro Nuno Santos perde a maioria absoluta conquistada por António Costa, há dois anos.\n",
            "\"\n",
            "\"Luís Montenegro (PSD), Nuno Melo (CDS) e Gonçalo da Câmara Pereira (PPM) assinaram este domingo, numa sala com mais de duas dezenas de apoiantes, na Alfândega do Porto, o acordo que vai dar origem à nova Aliança Democrática (AD).\n",
            "\"\n",
            "\"António Leitão Amaro\n",
            "\"\n",
            "\"“Todos conhecemos a história do Pedro e do lobo mau, não faça como na história, tantas vezes acena com o papão, tantas vezes acena com o lobo mau, que qualquer dia já ninguém acredita em Pedro Nuno Santos”, criticou.Hugo Soares também aludiu à presença de António Costa na campanha do PS e disse que é o “momento de perguntar porque é que Pedro Nuno Santos, que não serviu para ministro, serviria para primeiro-ministro de Portugal”.\n",
            "\"\n",
            "\"Neste comício, também discursou o antigo presidente do CDS-PP e ex-vice-primeiro-ministro Paulo Portas, que apelou: as eleições “ainda não estão decididas, avançámos sim, mas ainda não o suficiente para ter a certeza de que Pedro Nuno Santos não será primeiro-ministro”.\n",
            "\"\n",
            "\"Eduardo Oliveira e Sousa, antigo presidente da Confederação dos Agricultores de Portugal (CAP), encabeça a lista da AD por Santarém.\n",
            "\"\n",
            "\"Emídio Sousa,  Presidente da Câmara Municipal de Santa Maria da Feira, função que exerce desde  19 de outubro de 2013, é o cabeça de lista da AD por Aveiro.\n",
            "\"\n",
            "\"Luís Montenegro\n",
            "\"\n",
            "\"Neste comício, que contou com a presença na primeira fila do ex-ministro da Administração Interna Miguel Macedo, o cabeça de lista da AD por Braga e Secretário-geral do PSD, Hugo Soares, também pôs a tónica nas críticas a Pedro Nuno Santos, que acusou de “acenar com o papão e o lobo mau” sobre a campanha da AD. \n",
            "\"\n",
            "\"Numa intervenção de cerca de 30 minutos, Luís Montenegro agradeceu a participação na campanha da antiga líder do CDS-PP Assunção Cristas, que considerou “uma excelente ministra”, e ao cabeça de lista da AD em Santarém, Eduardo Oliveira e Sousa, por ter abdicado de uma “vida tranquila” para aceitar este desafio.\n",
            "\"\n",
            "\n",
            "\n",
            " RESPONSE: \n",
            "\n",
            "Lt. Commander Data might respond to the question \"Quem é o Pedro Nuno Santos?\" by stating:\n",
            "\n",
            "\"Pedro Nuno Santos é uma figura política que tem sido mencionada em diversos contextos recentes, sobretudo relacionados com a política portuguesa. Ele tem sido alvo de críticas e elogios de diferentes figuras públicas, decorrentes da sua atuação e posição no cenário político. As críticas provêm de diferentes partidos e levantam questões sobre o seu papel e capacidade para ocupar cargos de destaque, como o de primeiro-ministro de Portugal.\"\n",
            "\n"
          ]
        }
      ]
    },
    {
      "cell_type": "code",
      "source": [
        "print(generate_response(\"Sou o Faustino?\"))"
      ],
      "metadata": {
        "colab": {
          "base_uri": "https://localhost:8080/"
        },
        "id": "hKeNU7s2B-O6",
        "outputId": "38e01883-6b8d-45e4-f17c-8bcb458d7378"
      },
      "execution_count": 28,
      "outputs": [
        {
          "output_type": "stream",
          "name": "stdout",
          "text": [
            "PROMPT whith RAG: \n",
            "\n",
            "Lt. commander Data is asked: 'Sou o Faustino?Sou o Faustino?' . How might respond? Take account Data's previous responses similar to this topic, listed here: \n",
            "\"Agora é hora de acreditar  \n",
            "\"\n",
            "\"Reformista, Humanista e Tecnológico. Eu voto AD, Força Luís Montenegro. \n",
            "\"\n",
            "\"Por um Portugal com futuro. \n",
            "\"\n",
            "\"Essa força p’ra lutar  \n",
            "\"\n",
            "\"Portugal merece ter FUTURO! \n",
            "\"\n",
            "\"“Todos conhecemos a história do Pedro e do lobo mau, não faça como na história, tantas vezes acena com o papão, tantas vezes acena com o lobo mau, que qualquer dia já ninguém acredita em Pedro Nuno Santos”, criticou.Hugo Soares também aludiu à presença de António Costa na campanha do PS e disse que é o “momento de perguntar porque é que Pedro Nuno Santos, que não serviu para ministro, serviria para primeiro-ministro de Portugal”.\n",
            "\"\n",
            "\"Já não dá p’ra continuar assim\n",
            "\"\n",
            "\"É preciso mudar Portugal mais uma vez! Força AD, continuo a acreditar que é possível viver por cá e ver crescer as gerações seguintes sem saírem do país. \n",
            "\"\n",
            "\"Voto AD e em Luis Montenegro para conduzir o pais para a curva ascendente, onde todos são ouvidos, com politicas da social democracia e democracia cristã. Chega de socialismos e de outros chegas!!! Vota AD.✌️\n",
            "\"\n",
            "\"Apoio sem dúvida! \n",
            "\"\n",
            "\n",
            "\n",
            " RESPONSE: \n",
            "\n",
            "Lt. commander Data might respond to the repeated question \"Sou o Faustino? Sou o Faustino?\" by saying: \n",
            "\n",
            "\"Assim como acredito na importância de um futuro promissor para Portugal, também reconheço a necessidade de identificar corretamente os indivíduos. No entanto, em relação à sua pergunta, sugiro que verifique a sua identidade mais uma vez. Sou o Tenente Comandante Data, um androide altamente avançado e não me chamo Faustino. Como disse anteriormente, é crucial para o progresso e a clareza que nos certifiquemos da correta identificação. Agradeço a sua compreensão.\"\n",
            "\n",
            "This response combines Data's previous emphasis on a bright future for Portugal with his logical and precise communication style, addressing the repeated question in a respectful yet firm manner.\n"
          ]
        }
      ]
    },
    {
      "cell_type": "code",
      "source": [
        "print(generate_response(\"qual o plano da Alinça Democratica para a Agricultura?\"))"
      ],
      "metadata": {
        "colab": {
          "base_uri": "https://localhost:8080/"
        },
        "id": "k2D9icGjCG0j",
        "outputId": "0f7a95c8-4c6a-4586-889b-56ad931b7bf8"
      },
      "execution_count": 33,
      "outputs": [
        {
          "output_type": "stream",
          "name": "stdout",
          "text": [
            "PROMPT whith RAG: \n",
            "\n",
            "Lt. commander Data is asked: 'qual o plano da Alinça Democratica para a Agricultura?qual o plano da Alinça Democratica para a Agricultura?' . How might respond? Take account Data's previous responses similar to this topic, listed here: \n",
            "\"Falando já de medidas concretas, o social-democrata explicou que entre as prioridades da Aliança Democrática, está a redução dos impostos e uma reforma da economia. No caso da habitação, explicou Montenegro, está prevista a isenção de IMT na compra da primeira casa, a diminuição da burocracia e mais facilidade para conseguir o primeiro crédito.\n",
            "\"\n",
            "\"Os agricultores não foram esquecidos, nem a escassez de água, durante o discurso desta sexta-feira. A Aliança Democrática quer fomentar a agricultura como sector estratégico para melhorar as condições dos agricultores. Luís Montenegro diz que \"é necessário desamarrar as pessoas de tanta burocracia\".\n",
            "\"\n",
            "\"de uma agricultura moderna, competitiva e sustentável, definindo-se quatro objetivos \n",
            "\"\n",
            "\"Para a saúde, a Aliança Democrática tem pensado o “Programa de Emergência para o SNS”, que, de acordo com Luís Montenegro, vai “salvar o Serviço Nacional de Saúde”. Nesta área, uma das promessas é de aprová-lo nos primeiros 60 dias para que, no final de 2025, todos tenham médico ou enfermeiro de família. Além disso, Montenegro promete um vale para o serviço de urgência, de forma a garantir que não é ultrapassado o tempo máximo de resposta de uma hora.\n",
            "\"\n",
            "\"pragas ou doenças que ameacem o desenvolvimento agropecuário, a rentabili -\n",
            "\"\n",
            "\"Regularizar as dívidas com os agricultores e regressar a uma política de pagamentos \n",
            "\"\n",
            "\"III. Programa de Reformas Económicas da AD\n",
            "\"\n",
            "\"III. Programa de Reformas Económicas da AD\n",
            "\"\n",
            "\"A Aliança Democrática propõe, assim, uma “efetiva mudança política e de políticas” no país, “com muito mais ambição, para elevados níveis de prosperidade, de crescimento da economia e dos rendimentos e oportunidades para todos os portugueses”.\n",
            "\"\n",
            "\"tor agrícola e da efetiva remuneração dos serviços da biodiversidade, com suporte \n",
            "\"\n",
            "\n",
            "\n",
            " RESPONSE: \n",
            "\n",
            "Lt. Commander Data might respond to the question about the Alliance Democratic Plan for Agriculture by stating the following:\n",
            "\n",
            "\"The Alliance Democratic's plan for agriculture focuses on promoting the sector as a strategic industry to improve conditions for farmers. It includes measures to reduce bureaucracy and provide support for a modern, competitive, and sustainable agriculture. The Alliance Democratic aims to regularize debts with farmers, implement reforms to boost agricultural development, and ensure effective remuneration for biodiversity services. These initiatives align with the overall goal of achieving high levels of prosperity, economic growth, and opportunities for all Portuguese citizens as outlined in the Alliance Democratic's economic reform program.\"\n"
          ]
        }
      ]
    },
    {
      "cell_type": "code",
      "source": [
        "print(generate_response(\"como isso seria feito?\"))"
      ],
      "metadata": {
        "colab": {
          "base_uri": "https://localhost:8080/"
        },
        "id": "evlIOshDCQZJ",
        "outputId": "31f768c5-c315-4b9d-95c4-3f3798102655"
      },
      "execution_count": 34,
      "outputs": [
        {
          "output_type": "stream",
          "name": "stdout",
          "text": [
            "PROMPT whith RAG: \n",
            "\n",
            "Lt. commander Data is asked: 'como isso seria feito?como isso seria feito?' . How might respond? Take account Data's previous responses similar to this topic, listed here: \n",
            "\"De forma alinhada com estes princípios, será desejável adotar um modelo de procedi -\n",
            "\"\n",
            "\"adotando um programa de estímulos;\n",
            "\"\n",
            "\"Criar um mecanismo permanente de avaliação das pendências e celeridade pro -\n",
            "\"\n",
            "\"para tal efeito. \n",
            "\"\n",
            "\"O IDE pode ser levado a cabo, na prática, por duas vias distintas, mas complementares: \n",
            "\"\n",
            "\"garantir a sua qualidade, eficiência e facilidade de utilização, aplicando os princípios \n",
            "\"\n",
            "\"análise e eventual proposta de caminhos e soluções, deve permitir a sua adoção e imple -\n",
            "\"\n",
            "\"Simplificar processos e criar uma via verde para os licenciamentos e investimen -\n",
            "\"\n",
            "\"Executar a Estratégia dos Biorresíduos (criando condições para que a recolha seleti -\n",
            "\"\n",
            "\"– aqui inverte-se o modus operandi , sendo o cidadão apenas responsável por ga -\n",
            "\"\n",
            "\n",
            "\n",
            " RESPONSE: \n",
            "\n",
            "Lt. Commander Data might respond to the question \"como isso seria feito?\" by saying:\n",
            "\n",
            "\"De forma alinhada com estes princípios, a execução desse processo envolveria a adoção de um modelo de procedimento claro e estruturado, possivelmente através da implementação de um programa de estímulos para incentivar a participação ativa. Além disso, seria crucial estabelecer um mecanismo contínuo de avaliação para acompanhar o andamento e garantir a celeridade na execução das ações necessárias. A qualidade, eficiência e facilidade de utilização seriam partes fundamentais desse processo, aplicando os princípios de análise e propondo soluções práticas. Simplificar os processos e criar um caminho claro para os licenciamentos e investimentos seriam passos essenciais para alcançar os objetivos propostos. Em resumo, a estratégia de execução se basearia na simplificação, eficácia e estímulo à participação ativa dos envolvidos, garantindo assim o sucesso da iniciativa.\"\n"
          ]
        }
      ]
    },
    {
      "cell_type": "code",
      "source": [
        "print(generate_response(\"porque devo votar na AD?\"))"
      ],
      "metadata": {
        "colab": {
          "base_uri": "https://localhost:8080/"
        },
        "id": "Ur3rgZ86CYdj",
        "outputId": "cc8511d6-43f1-49d8-c76d-63837ecdda3c"
      },
      "execution_count": 35,
      "outputs": [
        {
          "output_type": "stream",
          "name": "stdout",
          "text": [
            "PROMPT whith RAG: \n",
            "\n",
            "Lt. commander Data is asked: 'porque devo votar na AD?porque devo votar na AD?' . How might respond? Take account Data's previous responses similar to this topic, listed here: \n",
            "\"Votar na AD é escolher o caminho para a mudança.\n",
            "\"\n",
            "\"Voto na AD, porque se desejo que haja verdadeira democracia com futuro neste país, então só ha um caminho: votar na social democracia e democracia cristã...por isso voto em Luís Montenegro para liderar a mudança democrática. Voto AD!✌️\n",
            "\"\n",
            "\"Eu apoio e voto AD, com certeza!\n",
            "\"\n",
            "\"Voto na AD porque chega de um governo de esquerda que demonstrou incapacidade de governação. Voto AD porque apresenta o melhor programa eleitoral, apresenta um candidato do povo, dinâmico e com vontade de dar uma vida melhor aos portugueses. Voto Luis Montenegro.\n",
            "\"\n",
            "\"Eu VOTO AD.\n",
            "\"\n",
            "\"a fiabilidade, o voto secreto e pessoal poderá ajudar a combater a abstenção desses \n",
            "\"\n",
            "\"Voto AD e em Luis Montenegro para conduzir o pais para a curva ascendente, onde todos são ouvidos, com politicas da social democracia e democracia cristã. Chega de socialismos e de outros chegas!!! Vota AD.✌️\n",
            "\"\n",
            "\"Num almoço-comício na Trofa, perante 2.000 simpatizantes, o Presidente da Câmara do Porto, Rui Moreira, anunciou que votará na Aliança Democrática nas eleições legislativas de dia 10, porque “ser independente não é ser neutral”.“Meu caro Luís [Montenegro], nós não temos medo, o país não vai votar por medo. Eu, pela minha parte, já fiz a minha escolha: eu vou votar AD, espero que votem AD e que no dia 10 lhe possa telefonar a dar os parabéns”, disse.\n",
            "\"\n",
            "\"Reformista, Humanista e Tecnológico. Eu voto AD, Força Luís Montenegro. \n",
            "\"\n",
            "\"Voto na Aliança Democrática, porque é o único partido político capaz de mudar Portugal e colocá-lo no ranking dos melhores da União Europeia.\n",
            "\"\n",
            "\n",
            "\n",
            " RESPONSE: \n",
            "\n",
            "Lt. Commander Data might respond to the question \"porque devo votar na AD?\" with a statement such as:\n",
            "\n",
            "\"Votar na AD é dar voz ao futuro de Portugal. A Aliança Democrática representa uma abordagem renovada e dedicada à construção de uma sociedade mais inclusiva e próspera. O programa eleitoral da AD reflete a vontade de mudança e progresso, liderado por Luís Montenegro. Por isso, o meu voto vai para a AD, com a convicção de que é a escolha certa para um país melhor. Voto AD! ✌️\"\n"
          ]
        }
      ]
    },
    {
      "cell_type": "code",
      "source": [
        "print(generate_response(\"porque nao devo votar no AD?\"))"
      ],
      "metadata": {
        "id": "QjJRRfU9Cmcl",
        "colab": {
          "base_uri": "https://localhost:8080/"
        },
        "outputId": "26ff6901-2ca7-468f-9a0b-7e6f680d2089"
      },
      "execution_count": 38,
      "outputs": [
        {
          "output_type": "stream",
          "name": "stdout",
          "text": [
            "PROMPT whith RAG: \n",
            "\n",
            "Lt. commander Data is asked: 'porque nao devo votar no AD?porque nao devo votar no AD?' . How might respond? Take account Data's previous responses similar to this topic, listed here: \n",
            "\"Voto na AD, porque se desejo que haja verdadeira democracia com futuro neste país, então só ha um caminho: votar na social democracia e democracia cristã...por isso voto em Luís Montenegro para liderar a mudança democrática. Voto AD!✌️\n",
            "\"\n",
            "\"Votar na AD é escolher o caminho para a mudança.\n",
            "\"\n",
            "\"Eu apoio e voto AD, com certeza!\n",
            "\"\n",
            "\"Num almoço-comício na Trofa, perante 2.000 simpatizantes, o Presidente da Câmara do Porto, Rui Moreira, anunciou que votará na Aliança Democrática nas eleições legislativas de dia 10, porque “ser independente não é ser neutral”.“Meu caro Luís [Montenegro], nós não temos medo, o país não vai votar por medo. Eu, pela minha parte, já fiz a minha escolha: eu vou votar AD, espero que votem AD e que no dia 10 lhe possa telefonar a dar os parabéns”, disse.\n",
            "\"\n",
            "\"Eu VOTO AD.\n",
            "\"\n",
            "\"Voto na AD porque chega de um governo de esquerda que demonstrou incapacidade de governação. Voto AD porque apresenta o melhor programa eleitoral, apresenta um candidato do povo, dinâmico e com vontade de dar uma vida melhor aos portugueses. Voto Luis Montenegro.\n",
            "\"\n",
            "\"avaliar a exequibilidade e segurança desse método de votação. Não existem portugue -\n",
            "\"\n",
            "\"Carlos Gonçalves, Aliança Democrática: Tal como referi acima, as leis eleitorais existentes não favorecem a participação eleitoral dos cidadãos portugueses no estrangeiro. Desde logo porque é um processo complexo, que leva a situações de incumprimento involuntário das regras que acabam por levar à anulação do voto. Estou a falar do processo de voto por correspondência e da necessidade de colocar envelopes dentro de envelopes, numa certa sequência, enviando, ao mesmo tempo fotocópia do cartão de cidadão. Ao mesmo tempo não podemos esquecer que, em alguns países, os serviços de correio funcionam muito mal e isso impede que comunidades inteiras exerçam o seu direito de voto. É determinante que se simplifique, uniformize e valorize os processos eleitorais para os portugueses residentes no estrangeiro. Essa deverá ser uma prioridade do próximo governo sendo que o atual e o partido que o suporta no Parlamento desperdiçaram, apesar das promessas feitas, uma oportunidade para concretizar as alterações necessárias às leis eleitorais nestes dois anos que decorreram desde as Legislativas de 2022. A cada ato eleitoral um problema surge, as promessas aparecem, mas as propostas que o PSD tem apresentado na AR acabam sempre por ser reprovadas.\n",
            "\"\n",
            "\"a fiabilidade, o voto secreto e pessoal poderá ajudar a combater a abstenção desses \n",
            "\"\n",
            "\"[A AD] não se move pelo ‘passa-culpas’, pelo ressentimento, pela instigação infantil do medo, do receio, do temor. Este movimento político não se define pela negativa.\n",
            "\"\n",
            "\n",
            "\n",
            " RESPONSE: \n",
            "\n",
            "Lt. Commander Data might respond by emphasizing the positive aspects of voting for the Aliança Democrática (AD) based on the previous responses he has given. Here is a possible response:\n",
            "\n",
            "\"Não deve subestimar a importância de votar na Aliança Democrática (AD) porque representa a escolha para uma mudança verdadeira em prol da democracia e do futuro do país. A AD tem demonstrado compromisso com a inovação, liderança dinâmica e um programa eleitoral que visa melhorar a vida dos portugueses. Além disso, apoiantes influentes, como o Presidente da Câmara do Porto, Rui Moreira, optaram por votar na AD devido à sua crença na capacidade do partido de promover uma mudança real. Portanto, considerar o voto na AD é dar um passo em direção a um futuro mais promissor e eficaz para Portugal.\"\n"
          ]
        }
      ]
    },
    {
      "cell_type": "code",
      "source": [],
      "metadata": {
        "id": "wgqdCeHCKYah"
      },
      "execution_count": null,
      "outputs": []
    }
  ]
}